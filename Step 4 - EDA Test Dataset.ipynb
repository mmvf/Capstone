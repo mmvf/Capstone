{
 "cells": [
  {
   "cell_type": "markdown",
   "metadata": {},
   "source": [
    "\n",
    "# Baseline"
   ]
  },
  {
   "cell_type": "markdown",
   "metadata": {},
   "source": [
    "### Import the necessary libraries"
   ]
  },
  {
   "cell_type": "code",
   "execution_count": 2,
   "metadata": {},
   "outputs": [],
   "source": [
    "# Import basic libraries\n",
    "import pandas as pd\n",
    "import numpy as np\n",
    "import matplotlib.pyplot as plt \n",
    "import mimetypes\n",
    "import seaborn as sns \n",
    "\n",
    "# Sklearn libraries\n",
    "from sklearn.pipeline import Pipeline\n",
    "from sklearn.model_selection import train_test_split, GridSearchCV, RandomizedSearchCV\n",
    "from sklearn.impute import SimpleImputer\n",
    "from sklearn.metrics import confusion_matrix, roc_auc_score, roc_curve, classification_report, auc\n",
    "from sklearn.base import BaseEstimator, TransformerMixin # to create classes\n",
    "from sklearn.compose import ColumnTransformer\n",
    "from sklearn.preprocessing import RobustScaler\n",
    "from sklearn.linear_model import LogisticRegression\n",
    "from sklearn.neighbors import KNeighborsClassifier\n",
    "from sklearn.ensemble import RandomForestClassifier, GradientBoostingClassifier\n",
    "from sklearn.svm import SVC\n",
    "from sklearn.impute import (SimpleImputer)\n",
    "from sklearn.preprocessing import (OneHotEncoder, OrdinalEncoder, StandardScaler)\n",
    "from matplotlib.colors import ListedColormap\n",
    "from matplotlib import transforms\n",
    "import zlib, json, base64\n",
    "import requests\n",
    "import datetime\n",
    "import matplotlib.ticker as mtick\n"
   ]
  },
  {
   "cell_type": "markdown",
   "metadata": {},
   "source": [
    "#### Import the dataset"
   ]
  },
  {
   "cell_type": "code",
   "execution_count": 3,
   "metadata": {},
   "outputs": [],
   "source": [
    "df_test = pd.read_csv('data/test.csv')"
   ]
  },
  {
   "cell_type": "code",
   "execution_count": 5,
   "metadata": {},
   "outputs": [
    {
     "data": {
      "text/plain": [
       "Type                             object\n",
       "Date                             object\n",
       "Part of a policing operation     object\n",
       "Latitude                        float64\n",
       "Longitude                       float64\n",
       "Gender                           object\n",
       "Age range                        object\n",
       "Officer-defined ethnicity        object\n",
       "Legislation                      object\n",
       "Object of search                 object\n",
       "station                          object\n",
       "predicted_class                   int64\n",
       "true_class                        int64\n",
       "dtype: object"
      ]
     },
     "execution_count": 5,
     "metadata": {},
     "output_type": "execute_result"
    }
   ],
   "source": [
    "df_test.dtypes"
   ]
  },
  {
   "cell_type": "code",
   "execution_count": 6,
   "metadata": {},
   "outputs": [
    {
     "name": "stdout",
     "output_type": "stream",
     "text": [
      "<class 'pandas.core.frame.DataFrame'>\n",
      "RangeIndex: 4000 entries, 0 to 3999\n",
      "Data columns (total 13 columns):\n",
      " #   Column                        Non-Null Count  Dtype  \n",
      "---  ------                        --------------  -----  \n",
      " 0   Type                          4000 non-null   object \n",
      " 1   Date                          4000 non-null   object \n",
      " 2   Part of a policing operation  2691 non-null   object \n",
      " 3   Latitude                      2829 non-null   float64\n",
      " 4   Longitude                     2829 non-null   float64\n",
      " 5   Gender                        4000 non-null   object \n",
      " 6   Age range                     4000 non-null   object \n",
      " 7   Officer-defined ethnicity     4000 non-null   object \n",
      " 8   Legislation                   4000 non-null   object \n",
      " 9   Object of search              4000 non-null   object \n",
      " 10  station                       4000 non-null   object \n",
      " 11  predicted_class               4000 non-null   int64  \n",
      " 12  true_class                    4000 non-null   int64  \n",
      "dtypes: float64(2), int64(2), object(9)\n",
      "memory usage: 406.4+ KB\n"
     ]
    }
   ],
   "source": [
    "df_test.info()"
   ]
  },
  {
   "cell_type": "markdown",
   "metadata": {},
   "source": [
    "### EDA (Exploratory Dataset Analysis)"
   ]
  },
  {
   "cell_type": "code",
   "execution_count": 7,
   "metadata": {},
   "outputs": [
    {
     "data": {
      "text/plain": [
       "Type                               2\n",
       "Date                            3451\n",
       "Part of a policing operation       2\n",
       "Latitude                        1556\n",
       "Longitude                       1558\n",
       "Gender                             3\n",
       "Age range                          5\n",
       "Officer-defined ethnicity          5\n",
       "Legislation                        7\n",
       "Object of search                  10\n",
       "station                            6\n",
       "predicted_class                    2\n",
       "true_class                         2\n",
       "dtype: int64"
      ]
     },
     "execution_count": 7,
     "metadata": {},
     "output_type": "execute_result"
    }
   ],
   "source": [
    "df_test.nunique()"
   ]
  },
  {
   "cell_type": "code",
   "execution_count": 11,
   "metadata": {},
   "outputs": [
    {
     "name": "stdout",
     "output_type": "stream",
     "text": [
      "['Person search' 'Person and Vehicle search']\n",
      "[False nan True]\n",
      "['Male' 'Female' 'Other']\n",
      "['18-24' '10-17' 'over 34' '25-34' 'under 10']\n",
      "['Black' 'Asian' 'White' 'Other' 'Mixed']\n",
      "['Criminal Justice Act 1988 (section 139B)'\n",
      " 'Misuse of Drugs Act 1971 (section 23)'\n",
      " 'Police and Criminal Evidence Act 1984 (section 1)'\n",
      " 'Criminal Justice and Public Order Act 1994 (section 60)'\n",
      " 'Firearms Act 1968 (section 47)'\n",
      " 'Psychoactive Substances Act 2016 (s36(2))'\n",
      " 'Poaching Prevention Act 1862 (section 2)']\n",
      "['Offensive weapons' 'Controlled drugs' 'Article for use in theft'\n",
      " 'Stolen goods' 'Firearms' 'Articles for use in criminal damage'\n",
      " 'Fireworks' 'Psychoactive substances' 'Game or poaching equipment'\n",
      " 'Evidence of offences under the Act']\n",
      "['nottinghamshire' 'cambridgeshire' 'city-of-london' 'devon-and-cornwall'\n",
      " 'durham' 'bedfordshire']\n"
     ]
    }
   ],
   "source": [
    "attributes = ['Type',\n",
    "              'Part of a policing operation',\n",
    "              'Gender', \n",
    "              'Age range', \n",
    "              'Officer-defined ethnicity', \n",
    "              'Legislation', \n",
    "              'Object of search', \n",
    "              'station']\n",
    "\n",
    "for col in attributes:\n",
    "    print(df_test[col].unique())"
   ]
  },
  {
   "cell_type": "code",
   "execution_count": 12,
   "metadata": {},
   "outputs": [
    {
     "data": {
      "text/plain": [
       "Type                               0\n",
       "Date                               0\n",
       "Part of a policing operation    1309\n",
       "Latitude                        1171\n",
       "Longitude                       1171\n",
       "Gender                             0\n",
       "Age range                          0\n",
       "Officer-defined ethnicity          0\n",
       "Legislation                        0\n",
       "Object of search                   0\n",
       "station                            0\n",
       "predicted_class                    0\n",
       "true_class                         0\n",
       "dtype: int64"
      ]
     },
     "execution_count": 12,
     "metadata": {},
     "output_type": "execute_result"
    }
   ],
   "source": [
    "df_test.isna().sum()"
   ]
  },
  {
   "cell_type": "code",
   "execution_count": 13,
   "metadata": {},
   "outputs": [
    {
     "data": {
      "text/plain": [
       "'2022-01-01T00:35:00+00:00'"
      ]
     },
     "execution_count": 13,
     "metadata": {},
     "output_type": "execute_result"
    }
   ],
   "source": [
    "df_test['Date'].min()"
   ]
  },
  {
   "cell_type": "code",
   "execution_count": 15,
   "metadata": {},
   "outputs": [
    {
     "data": {
      "text/plain": [
       "'2022-03-14T14:45:00+00:00'"
      ]
     },
     "execution_count": 15,
     "metadata": {},
     "output_type": "execute_result"
    }
   ],
   "source": [
    "df_test['Date'].max()"
   ]
  },
  {
   "cell_type": "markdown",
   "metadata": {},
   "source": [
    "#### Convert Data Types"
   ]
  },
  {
   "cell_type": "code",
   "execution_count": 16,
   "metadata": {},
   "outputs": [],
   "source": [
    "# Convert Column Date to Datetime\n",
    "df_test['Date'] = pd.to_datetime(df_test['Date'])\n",
    "df_test = df_test.sort_values('Date')"
   ]
  },
  {
   "cell_type": "code",
   "execution_count": 18,
   "metadata": {},
   "outputs": [],
   "source": [
    "# Linked_search should be considered to False\n",
    "# It was found that officers tend to forget to fill in a None when they don’t find anything. \n",
    "\n",
    "df_test[['Part of a policing operation']] = df_test[['Part of a policing operation']].fillna(False).astype('boolean')"
   ]
  },
  {
   "cell_type": "code",
   "execution_count": 19,
   "metadata": {},
   "outputs": [],
   "source": [
    "# Convert Columns with Category Values\n",
    "cat = ['Type', \n",
    "       'Part of a policing operation',\n",
    "       'Gender',\n",
    "       'Age range', \n",
    "       'Officer-defined ethnicity', \n",
    "       'Legislation', \n",
    "       'Object of search',\n",
    "       'station']\n",
    "\n",
    "df_test[cat] = df_test[cat].astype('category')"
   ]
  },
  {
   "cell_type": "markdown",
   "metadata": {},
   "source": [
    "### EDA"
   ]
  },
  {
   "cell_type": "code",
   "execution_count": 20,
   "metadata": {},
   "outputs": [
    {
     "data": {
      "text/plain": [
       "Type                               0\n",
       "Date                               0\n",
       "Part of a policing operation       0\n",
       "Latitude                        1171\n",
       "Longitude                       1171\n",
       "Gender                             0\n",
       "Age range                          0\n",
       "Officer-defined ethnicity          0\n",
       "Legislation                        0\n",
       "Object of search                   0\n",
       "station                            0\n",
       "predicted_class                    0\n",
       "true_class                         0\n",
       "dtype: int64"
      ]
     },
     "execution_count": 20,
     "metadata": {},
     "output_type": "execute_result"
    }
   ],
   "source": [
    "df_test.isna().sum()"
   ]
  },
  {
   "cell_type": "code",
   "execution_count": 21,
   "metadata": {},
   "outputs": [
    {
     "data": {
      "text/html": [
       "<div>\n",
       "<style scoped>\n",
       "    .dataframe tbody tr th:only-of-type {\n",
       "        vertical-align: middle;\n",
       "    }\n",
       "\n",
       "    .dataframe tbody tr th {\n",
       "        vertical-align: top;\n",
       "    }\n",
       "\n",
       "    .dataframe thead th {\n",
       "        text-align: right;\n",
       "    }\n",
       "</style>\n",
       "<table border=\"1\" class=\"dataframe\">\n",
       "  <thead>\n",
       "    <tr style=\"text-align: right;\">\n",
       "      <th></th>\n",
       "      <th>true_class</th>\n",
       "      <th>0</th>\n",
       "      <th>1</th>\n",
       "    </tr>\n",
       "    <tr>\n",
       "      <th>station</th>\n",
       "      <th>predicted_class</th>\n",
       "      <th></th>\n",
       "      <th></th>\n",
       "    </tr>\n",
       "  </thead>\n",
       "  <tbody>\n",
       "    <tr>\n",
       "      <th rowspan=\"2\" valign=\"top\">bedfordshire</th>\n",
       "      <th>0</th>\n",
       "      <td>12</td>\n",
       "      <td>3</td>\n",
       "    </tr>\n",
       "    <tr>\n",
       "      <th>1</th>\n",
       "      <td>641</td>\n",
       "      <td>171</td>\n",
       "    </tr>\n",
       "    <tr>\n",
       "      <th rowspan=\"2\" valign=\"top\">cambridgeshire</th>\n",
       "      <th>0</th>\n",
       "      <td>11</td>\n",
       "      <td>4</td>\n",
       "    </tr>\n",
       "    <tr>\n",
       "      <th>1</th>\n",
       "      <td>303</td>\n",
       "      <td>112</td>\n",
       "    </tr>\n",
       "    <tr>\n",
       "      <th rowspan=\"2\" valign=\"top\">city-of-london</th>\n",
       "      <th>0</th>\n",
       "      <td>0</td>\n",
       "      <td>0</td>\n",
       "    </tr>\n",
       "    <tr>\n",
       "      <th>1</th>\n",
       "      <td>367</td>\n",
       "      <td>106</td>\n",
       "    </tr>\n",
       "    <tr>\n",
       "      <th rowspan=\"2\" valign=\"top\">devon-and-cornwall</th>\n",
       "      <th>0</th>\n",
       "      <td>36</td>\n",
       "      <td>4</td>\n",
       "    </tr>\n",
       "    <tr>\n",
       "      <th>1</th>\n",
       "      <td>861</td>\n",
       "      <td>190</td>\n",
       "    </tr>\n",
       "    <tr>\n",
       "      <th rowspan=\"2\" valign=\"top\">durham</th>\n",
       "      <th>0</th>\n",
       "      <td>0</td>\n",
       "      <td>0</td>\n",
       "    </tr>\n",
       "    <tr>\n",
       "      <th>1</th>\n",
       "      <td>310</td>\n",
       "      <td>111</td>\n",
       "    </tr>\n",
       "    <tr>\n",
       "      <th rowspan=\"2\" valign=\"top\">nottinghamshire</th>\n",
       "      <th>0</th>\n",
       "      <td>15</td>\n",
       "      <td>1</td>\n",
       "    </tr>\n",
       "    <tr>\n",
       "      <th>1</th>\n",
       "      <td>570</td>\n",
       "      <td>172</td>\n",
       "    </tr>\n",
       "  </tbody>\n",
       "</table>\n",
       "</div>"
      ],
      "text/plain": [
       "true_class                            0    1\n",
       "station            predicted_class          \n",
       "bedfordshire       0                 12    3\n",
       "                   1                641  171\n",
       "cambridgeshire     0                 11    4\n",
       "                   1                303  112\n",
       "city-of-london     0                  0    0\n",
       "                   1                367  106\n",
       "devon-and-cornwall 0                 36    4\n",
       "                   1                861  190\n",
       "durham             0                  0    0\n",
       "                   1                310  111\n",
       "nottinghamshire    0                 15    1\n",
       "                   1                570  172"
      ]
     },
     "execution_count": 21,
     "metadata": {},
     "output_type": "execute_result"
    }
   ],
   "source": [
    "df_test.groupby(df_test.station)[['predicted_class', 'true_class']].value_counts().unstack()"
   ]
  },
  {
   "cell_type": "code",
   "execution_count": 23,
   "metadata": {},
   "outputs": [],
   "source": [
    "data1 = np.random.random((4, 4))\n",
    "cmap = plt.cm.Pastel2\n",
    "my_cmap = cmap(np.arange(cmap.N))\n",
    "my_cmap[:, -1] = np.linspace(0.5, 0.7, cmap.N)\n",
    "my_cmap = ListedColormap(my_cmap)"
   ]
  },
  {
   "cell_type": "code",
   "execution_count": 24,
   "metadata": {},
   "outputs": [],
   "source": [
    "data1 = np.random.random((4, 4))\n",
    "cmap = plt.cm.Paired\n",
    "gcmap = cmap(np.arange(cmap.N))\n",
    "gcmap[:, -1] = np.linspace(0.6, 0.7, cmap.N)\n",
    "gcmap = ListedColormap(gcmap)"
   ]
  },
  {
   "cell_type": "code",
   "execution_count": 26,
   "metadata": {},
   "outputs": [],
   "source": [
    "color_list = ['#89C4C2','#D0EBC5', '#F3F7C1', '#F9D4A4', '#F5A2A2', '#BC789E']"
   ]
  },
  {
   "cell_type": "markdown",
   "metadata": {},
   "source": [
    "#### Check Inbalanced Dataset"
   ]
  },
  {
   "cell_type": "code",
   "execution_count": 31,
   "metadata": {},
   "outputs": [
    {
     "data": {
      "image/png": "[encoded data removed]",
      "text/plain": [
       "<Figure size 400x300 with 1 Axes>"
      ]
     },
     "metadata": {},
     "output_type": "display_data"
    }
   ],
   "source": [
    "# Checking if the dataset is imbalanced \n",
    "df_test[\"true_class\"].value_counts(normalize=True, dropna = False).plot(kind=\"bar\", color = color_list, figsize=(4, 3))\n",
    "plt.title(\"Outcome Distribution\")\n",
    "plt.ylabel(\"Perc. of Stop and Searches\");"
   ]
  }
 ],
 "metadata": {
  "kernelspec": {
   "display_name": "Python 3 (ipykernel)",
   "language": "python",
   "name": "python3"
  },
  "language_info": {
   "codemirror_mode": {
    "name": "ipython",
    "version": 3
   },
   "file_extension": ".py",
   "mimetype": "text/x-python",
   "name": "python",
   "nbconvert_exporter": "python",
   "pygments_lexer": "ipython3",
   "version": "3.8.14"
  }
 },
 "nbformat": 4,
 "nbformat_minor": 4
}
