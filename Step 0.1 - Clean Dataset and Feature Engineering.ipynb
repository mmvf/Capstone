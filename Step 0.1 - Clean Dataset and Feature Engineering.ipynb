{
 "cells": [
  {
   "cell_type": "markdown",
   "metadata": {},
   "source": [
    "\n",
    "# Baseline"
   ]
  },
  {
   "cell_type": "markdown",
   "metadata": {},
   "source": [
    "### Import the necessary libraries"
   ]
  },
  {
   "cell_type": "code",
   "execution_count": 3,
   "metadata": {},
   "outputs": [],
   "source": [
    "# Import basic libraries\n",
    "import pandas as pd\n",
    "import numpy as np\n",
    "import matplotlib.pyplot as plt \n",
    "import mimetypes\n",
    "import seaborn as sns \n",
    "\n",
    "# Sklearn libraries\n",
    "from sklearn.pipeline import Pipeline\n",
    "from sklearn.model_selection import train_test_split, GridSearchCV, RandomizedSearchCV\n",
    "from sklearn.impute import SimpleImputer\n",
    "from sklearn.metrics import confusion_matrix, roc_auc_score, roc_curve, classification_report, auc\n",
    "from sklearn.base import BaseEstimator, TransformerMixin # to create classes\n",
    "from sklearn.compose import ColumnTransformer\n",
    "from sklearn.preprocessing import RobustScaler\n",
    "from sklearn.linear_model import LogisticRegression\n",
    "from sklearn.neighbors import KNeighborsClassifier\n",
    "from sklearn.ensemble import RandomForestClassifier, GradientBoostingClassifier\n",
    "from sklearn.svm import SVC\n",
    "from sklearn.impute import (SimpleImputer)\n",
    "from sklearn.preprocessing import (OneHotEncoder, OrdinalEncoder, StandardScaler)\n",
    "from matplotlib.colors import ListedColormap\n",
    "\n",
    "import zlib, json, base64\n",
    "import requests\n",
    "import datetime\n",
    "import matplotlib.ticker as mtick\n"
   ]
  },
  {
   "cell_type": "markdown",
   "metadata": {},
   "source": [
    "#### Import the dataset"
   ]
  },
  {
   "cell_type": "code",
   "execution_count": 4,
   "metadata": {},
   "outputs": [],
   "source": [
    "df_train = pd.read_csv('data/train.csv', \n",
    "                       index_col='observation_id',\n",
    "                       header = 0)"
   ]
  },
  {
   "cell_type": "code",
   "execution_count": 5,
   "metadata": {},
   "outputs": [
    {
     "name": "stdout",
     "output_type": "stream",
     "text": [
      "<class 'pandas.core.frame.DataFrame'>\n",
      "Index: 856610 entries, 2e4d0094-c30b-471b-a211-72a9790feca2 to a697ebdf-0ff2-4d6e-8c0e-1e6285858301\n",
      "Data columns (total 15 columns):\n",
      " #   Column                                    Non-Null Count   Dtype  \n",
      "---  ------                                    --------------   -----  \n",
      " 0   Type                                      856610 non-null  object \n",
      " 1   Date                                      856610 non-null  object \n",
      " 2   Part of a policing operation              646620 non-null  object \n",
      " 3   Latitude                                  700308 non-null  float64\n",
      " 4   Longitude                                 700308 non-null  float64\n",
      " 5   Gender                                    856610 non-null  object \n",
      " 6   Age range                                 856610 non-null  object \n",
      " 7   Self-defined ethnicity                    841427 non-null  object \n",
      " 8   Officer-defined ethnicity                 856610 non-null  object \n",
      " 9   Legislation                               816863 non-null  object \n",
      " 10  Object of search                          856610 non-null  object \n",
      " 11  Outcome                                   856610 non-null  object \n",
      " 12  Outcome linked to object of search        254683 non-null  object \n",
      " 13  Removal of more than just outer clothing  340097 non-null  object \n",
      " 14  station                                   856610 non-null  object \n",
      "dtypes: float64(2), object(13)\n",
      "memory usage: 104.6+ MB\n"
     ]
    }
   ],
   "source": [
    "df_train.info()"
   ]
  },
  {
   "cell_type": "code",
   "execution_count": 6,
   "metadata": {},
   "outputs": [
    {
     "name": "stdout",
     "output_type": "stream",
     "text": [
      "['Person search' 'Person and Vehicle search' 'Vehicle search']\n",
      "[nan False True]\n",
      "['Male' 'Female' 'Other']\n",
      "['25-34' 'over 34' '10-17' '18-24' 'under 10']\n",
      "['Other ethnic group - Not stated' 'White - Any other White background'\n",
      " 'White - English/Welsh/Scottish/Northern Irish/British'\n",
      " 'Mixed/Multiple ethnic groups - White and Black African'\n",
      " 'Black/African/Caribbean/Black British - Any other Black/African/Caribbean background'\n",
      " 'Black/African/Caribbean/Black British - Caribbean'\n",
      " 'Asian/Asian British - Any other Asian background'\n",
      " 'Asian/Asian British - Indian' 'Asian/Asian British - Bangladeshi'\n",
      " 'Black/African/Caribbean/Black British - African' 'White - Irish'\n",
      " 'Other ethnic group - Any other ethnic group'\n",
      " 'Mixed/Multiple ethnic groups - White and Asian'\n",
      " 'Asian/Asian British - Chinese'\n",
      " 'Mixed/Multiple ethnic groups - Any other Mixed/Multiple ethnic background'\n",
      " 'Mixed/Multiple ethnic groups - White and Black Caribbean'\n",
      " 'Asian/Asian British - Pakistani' 'White - Gypsy or Irish Traveller' nan\n",
      " 'Other ethnic group - Arab']\n",
      "['White' 'Other' 'Asian' 'Black' 'Mixed']\n",
      "['Police and Criminal Evidence Act 1984 (section 1)'\n",
      " 'Misuse of Drugs Act 1971 (section 23)' 'Firearms Act 1968 (section 47)'\n",
      " 'Poaching Prevention Act 1862 (section 2)'\n",
      " 'Psychoactive Substances Act 2016 (s36(2))'\n",
      " 'Criminal Justice and Public Order Act 1994 (section 60)'\n",
      " 'Criminal Justice Act 1988 (section 139B)' nan\n",
      " 'Psychoactive Substances Act 2016 (s37(2))'\n",
      " 'Wildlife and Countryside Act 1981 (section 19)'\n",
      " 'Aviation Security Act 1982 (section 27(1))'\n",
      " 'Public Stores Act 1875 (section 6)' 'Hunting Act 2004 (section 8)'\n",
      " 'Environmental Protection Act 1990 (section 34B )'\n",
      " 'Customs and Excise Management Act 1979 (section 163)'\n",
      " 'Police and Criminal Evidence Act 1984 (section 6)'\n",
      " 'Conservation of Seals Act 1970 (section 4)'\n",
      " 'Crossbows Act 1987 (section 4)' 'Deer Act 1991 (section 12)'\n",
      " 'Protection of Badgers Act 1992 (section 11)']\n",
      "['Article for use in theft' 'Controlled drugs' 'Stolen goods'\n",
      " 'Offensive weapons' 'Anything to threaten or harm anyone'\n",
      " 'Articles for use in criminal damage' 'Firearms'\n",
      " 'Game or poaching equipment' 'Psychoactive substances' 'Fireworks'\n",
      " 'Evidence of offences under the Act'\n",
      " 'Goods on which duty has not been paid etc.'\n",
      " 'Detailed object of search unavailable' 'Crossbows'\n",
      " 'Evidence of wildlife offences'\n",
      " 'Evidence of hunting any wild mammal with a dog'\n",
      " 'Seals or hunting equipment']\n",
      "['Community resolution' 'A no further action disposal' 'Arrest'\n",
      " 'Summons / charged by post' 'Caution (simple or conditional)'\n",
      " 'Penalty Notice for Disorder' 'Khat or Cannabis warning']\n",
      "[False True nan]\n",
      "[False True nan]\n",
      "['hampshire' 'sussex' 'south-yorkshire' 'staffordshire' 'bedfordshire'\n",
      " 'cumbria' 'nottinghamshire' 'warwickshire' 'devon-and-cornwall'\n",
      " 'leicestershire' 'durham' 'humberside' 'thames-valley' 'norfolk'\n",
      " 'lincolnshire' 'northamptonshire' 'kent' 'wiltshire' 'city-of-london'\n",
      " 'west-mercia' 'lancashire' 'cheshire' 'derbyshire' 'btp' 'surrey'\n",
      " 'hertfordshire' 'north-yorkshire' 'cambridgeshire' 'metropolitan'\n",
      " 'northumbria' 'west-yorkshire' 'north-wales' 'cleveland'\n",
      " 'gloucestershire' 'avon-and-somerset' 'dorset' 'suffolk' 'dyfed-powys'\n",
      " 'west-midlands' 'merseyside' 'essex']\n"
     ]
    }
   ],
   "source": [
    "attributes = ['Type',\n",
    "              'Part of a policing operation',\n",
    "              'Gender', \n",
    "              'Age range', \n",
    "              'Self-defined ethnicity', \n",
    "              'Officer-defined ethnicity', \n",
    "              'Legislation', \n",
    "              'Object of search', \n",
    "              'Outcome', \n",
    "              'Outcome linked to object of search',\n",
    "              'Removal of more than just outer clothing',\n",
    "              'station']\n",
    "\n",
    "for col in attributes:\n",
    "    print(df_train[col].unique())"
   ]
  },
  {
   "cell_type": "code",
   "execution_count": 7,
   "metadata": {},
   "outputs": [
    {
     "data": {
      "text/plain": [
       "Type                                             0\n",
       "Date                                             0\n",
       "Part of a policing operation                209990\n",
       "Latitude                                    156302\n",
       "Longitude                                   156302\n",
       "Gender                                           0\n",
       "Age range                                        0\n",
       "Self-defined ethnicity                       15183\n",
       "Officer-defined ethnicity                        0\n",
       "Legislation                                  39747\n",
       "Object of search                                 0\n",
       "Outcome                                          0\n",
       "Outcome linked to object of search          601927\n",
       "Removal of more than just outer clothing    516513\n",
       "station                                          0\n",
       "dtype: int64"
      ]
     },
     "execution_count": 7,
     "metadata": {},
     "output_type": "execute_result"
    }
   ],
   "source": [
    "df_train.isna().sum()"
   ]
  },
  {
   "cell_type": "code",
   "execution_count": 8,
   "metadata": {},
   "outputs": [],
   "source": [
    "#coordinate_dict = df_train.groupby('station')[['Latitude', 'Longitudes']].mean().fillna(df_train.mean()).to_dict()\n",
    "coordinate_dict = {'Latitude': {'avon-and-somerset': 51.33175637267479, \n",
    "                           'bedfordshire': 51.98144995771613, \n",
    "                           'btp': 52.12218768654392, \n",
    "                           'cambridgeshire': 52.406997233214504, \n",
    "                           'cheshire': 53.27632442323492, \n",
    "                           'city-of-london': 51.515312816717575, \n",
    "                           'cleveland': 54.34701910875864, \n",
    "                           'cumbria': 54.56496815974666, \n",
    "                           'derbyshire': 53.00366546443391, \n",
    "                           'devon-and-cornwall': 50.5275507427191, \n",
    "                           'dorset': 50.72136650800582, \n",
    "                           'durham': 54.68126312370846, \n",
    "                           'dyfed-powys': 52.12028764514218,\n",
    "                           'essex': 51.72260861278373, \n",
    "                           'gloucestershire': 51.850543872809496, \n",
    "                           'hampshire': 50.93112387363688, \n",
    "                           'hertfordshire': 51.768994971696216, \n",
    "                           'humberside': 53.701766442985075, \n",
    "                           'kent': 51.39447867441328, \n",
    "                           'lancashire': 53.17557931559899, \n",
    "                           'leicestershire': 52.65100891407568, \n",
    "                           'lincolnshire': 53.07508733459697, \n",
    "                           'merseyside': 53.42796231526082, \n",
    "                           'metropolitan': 51.507594764548436, \n",
    "                           'norfolk': 52.64004391303848, \n",
    "                           'north-wales': 53.180918865456725, \n",
    "                           'north-yorkshire': 54.064504035898906, \n",
    "                           'northamptonshire': 52.3072518685, \n",
    "                           'northumbria': 55.00710826101568, \n",
    "                           'nottinghamshire': 51.92553576029973, \n",
    "                           'south-yorkshire': 51.92553576029973, \n",
    "                           'staffordshire': 52.90053738474921, \n",
    "                           'suffolk': 52.15084482566662, \n",
    "                           'surrey': 51.325869422737, \n",
    "                           'sussex': 50.902363490320866, \n",
    "                           'thames-valley': 51.68988934877214, \n",
    "                           'warwickshire': 52.37148753310205,\n",
    "                           'west-mercia': 52.41016790308912, \n",
    "                           'west-midlands': 52.48964841613634, \n",
    "                           'west-yorkshire': 53.76984142554578, \n",
    "                           'wiltshire': 51.421036072453624}, \n",
    "                   'Longitude': {'avon-and-somerset': -2.7071552408137083, \n",
    "                            'bedfordshire': -0.426417996229464, \n",
    "                            'btp': -0.8921149511598153, \n",
    "                            'cambridgeshire': -0.0774420258467023, \n",
    "                            'cheshire': -2.612427713992298, \n",
    "                            'city-of-london': -0.08623273007497918, \n",
    "                            'cleveland': -1.2172083120124806,\n",
    "                            'cumbria': -3.1320293015482052, \n",
    "                            'derbyshire': -1.4851611348547717, \n",
    "                            'devon-and-cornwall': -4.026554344383304, \n",
    "                            'dorset': -2.043267481441048, \n",
    "                            'durham': -1.581104200502653, \n",
    "                            'dyfed-powys': -4.007564165580568, \n",
    "                            'essex': 0.5533465492591425, \n",
    "                            'gloucestershire': -2.1959625771622386, \n",
    "                            'hampshire': -1.2145474441259134, \n",
    "                            'hertfordshire': -0.2599600221595488, \n",
    "                            'humberside': -0.4027265295522388, \n",
    "                            'kent': 0.5128513800228963, \n",
    "                            'lancashire': -2.6421476185305828, \n",
    "                            'leicestershire': -1.1536536537719932, \n",
    "                            'lincolnshire': -0.31962162829209895, \n",
    "                            'merseyside': -2.942090273742405, \n",
    "                            'metropolitan': -0.1078484889388174, \n",
    "                            'norfolk': 0.9602396567489948, \n",
    "                            'north-wales': -3.5553297378131092, \n",
    "                            'north-yorkshire': -1.11896528058587, \n",
    "                            'northamptonshire': -0.8103302245, \n",
    "                            'northumbria': -1.5863827457057507,\n",
    "                            'nottinghamshire': -0.6653726503038662, \n",
    "                            'south-yorkshire': -0.6653726503038662, \n",
    "                            'staffordshire': -2.0699261203247317, \n",
    "                            'suffolk': 1.020457451894589, \n",
    "                            'surrey': -0.4328004846962508, \n",
    "                            'sussex': -0.16636629196499603, \n",
    "                            'thames-valley': -0.9966845383898041, \n",
    "                            'warwickshire': -1.4922003654235327, \n",
    "                            'west-mercia': -2.3419879800437395, \n",
    "                            'west-midlands': -1.8710733354546436, \n",
    "                            'west-yorkshire': -1.648371743890518, \n",
    "                            'wiltshire': -1.9036338988449422}}"
   ]
  },
  {
   "cell_type": "markdown",
   "metadata": {},
   "source": [
    "### Clean Dataset & Feature Engineering"
   ]
  },
  {
   "cell_type": "markdown",
   "metadata": {},
   "source": [
    "1\\. Encode Categoricals Features\n",
    "\n",
    "&ensp; <b>Gender</b> <br>\n",
    "&ensp; <b>Age range</b>  Merge 'under 10' and '10-17' categories - 'under 18' <br>\n",
    "&ensp; <b>Officer-defined ethnicity</b> <br>\n",
    "&ensp; <b>Object of search</b> <br>\n",
    "&ensp; <b>Outcome</b> <br>\n",
    "&ensp; <b>station</b> <br>\n",
    "&ensp; <b>legislation</b> Merge non-prevalent categories <br>\n",
    "\n",
    "2\\. Fill Missing Values:\n",
    "\n",
    "&ensp; <b>Latitude and Longitude</b> - impute a value (mean?)<br>\n",
    "&ensp; <b>Legislation</b> - Fill with Category Others when NaN<br>\n",
    "&ensp; <b>Part of a policing operation</b> - Fill False<br>\n",
    "&ensp; <b>Outcome linked to object of search</b> - Fill False <br>\n",
    "&ensp; <b>Removal of more than just outer clothing</b> - Fill False, except when Vehicle Search <br>\n",
    "\n",
    "3\\. Create New Features: \n",
    "\n",
    "&ensp; <b>Day and Month</b><br>\n",
    "&ensp; <b>Day of the Week</b><br>\n",
    "\n",
    "4\\. Drop Columns: \n",
    "\n",
    "&ensp; <b>Removal of more than just outer clothing</b> <br>\n",
    "&ensp; <b>Self-defined ethnicity</b> <br>\n"
   ]
  },
  {
   "cell_type": "markdown",
   "metadata": {},
   "source": [
    "#### Define Pre-processing Pipeline"
   ]
  },
  {
   "cell_type": "code",
   "execution_count": 9,
   "metadata": {},
   "outputs": [],
   "source": [
    "class ConvertDataTypes(BaseEstimator, TransformerMixin):\n",
    "    \n",
    "    def __init__(self):\n",
    "        pass\n",
    "    \n",
    "    def fit(self, X=None, y=None, **fit_params):\n",
    "        return self\n",
    "    \n",
    "    def transform(self, data):\n",
    "        X = data.copy()\n",
    "        \n",
    "        # Convert Column Date to Datetime\n",
    "\n",
    "        X['Date'] = pd.to_datetime(X['Date'])\n",
    "        X = X.sort_values('Date')\n",
    "               \n",
    "        # Convert Columns with Category Values\n",
    "\n",
    "        cat = ['Type', \n",
    "               'Gender',\n",
    "               'Age range', \n",
    "               'Officer-defined ethnicity', \n",
    "               'Legislation', \n",
    "               'Object of search',\n",
    "               'Outcome', \n",
    "               'station']\n",
    "        \n",
    "        for c in cat:\n",
    "            X[c] = X[c].apply(lambda x: str(x).lower())\n",
    "        X[cat] = X[cat].astype('category')\n",
    "\n",
    "        return X"
   ]
  },
  {
   "cell_type": "code",
   "execution_count": 10,
   "metadata": {},
   "outputs": [],
   "source": [
    "class MergeCategories(BaseEstimator, TransformerMixin):\n",
    "    \n",
    "    def __init__(self):\n",
    "        pass\n",
    "    \n",
    "    def fit(self, X=None, y=None, **fit_params):\n",
    "        return self\n",
    "    \n",
    "    def transform(self, data):\n",
    "        X = data.copy()\n",
    "        \n",
    "        # Merge Age Range\n",
    "\n",
    "        X['Age range'] = X['Age range'].replace('under 10', 'under 18')\n",
    "        X['Age range'] = X['Age range'].replace('10-17', 'under 18')\n",
    "        \n",
    "        prevalent_legislation = ['Police and Criminal Evidence Act 1984 (section 1)',\n",
    "                                 'Misuse of Drugs Act 1971 (section 23)',\n",
    "                                 'Firearms Act 1968 (section 47)',\n",
    "                                 'Criminal Justice and Public Order Act 1994 (section 60)', 'unknown']\n",
    "        \n",
    "        X['Legislation'] = X['Legislation'].apply(lambda x: 'other' if x not in prevalent_legislation else x)\n",
    "        \n",
    "        return X"
   ]
  },
  {
   "cell_type": "code",
   "execution_count": 17,
   "metadata": {},
   "outputs": [],
   "source": [
    "class CreateFeatures(BaseEstimator, TransformerMixin):\n",
    "    \n",
    "    def __init__(self):\n",
    "        pass\n",
    "    \n",
    "    def fit(self, X=None, y=None, **fit_params):\n",
    "        return self\n",
    "    \n",
    "    def transform(self, data):\n",
    "        X = data.copy()\n",
    "        \n",
    "        #Date Features\n",
    "        X['hour'] = X['Date'].dt.hour\n",
    "        X['month'] = X['Date'].dt.month\n",
    "        X['day_of_week'] = X['Date'].dt.day_name()\n",
    "        \n",
    "        #Target\n",
    "        positive_outcome = ['community resolution',\n",
    "                    'khat or cannabis warning',\n",
    "                    'caution (simple or conditional)',\n",
    "                    'arrest',\n",
    "                    'penalty notice for disorder',\n",
    "                    'summons / charged by post',\n",
    "                    'suspect arrested',\n",
    "                    'suspect summoned to court']\n",
    "        X['period'] = (X['hour'] % 24 + 4) // 4\n",
    "        X['period'].replace({1: 'Late Night',\n",
    "                      2: 'Early Morning',\n",
    "                      3: 'Morning',\n",
    "                      4: 'Noon',\n",
    "                      5: 'Evening',\n",
    "                      6: 'Night'}, inplace=True)\n",
    "\n",
    "        X['positive_outcome'] = [oc in positive_outcome for oc in X['Outcome']]\n",
    "        X['target'] = X['positive_outcome'] & X['Outcome linked to object of search']\n",
    "        \n",
    "        return X"
   ]
  },
  {
   "cell_type": "code",
   "execution_count": 18,
   "metadata": {},
   "outputs": [],
   "source": [
    "class FillNA(BaseEstimator, TransformerMixin):\n",
    "    \n",
    "    def __init__(self):\n",
    "        pass\n",
    "    \n",
    "    def fit(self, X=None, y=None, **fit_params):\n",
    "        return self\n",
    "    \n",
    "    def transform(self, data):\n",
    "        X = data.copy()\n",
    "        \n",
    "        # Impute Missing Values Lat and Long\n",
    "        \n",
    "        X['Latitude'] = X['Latitude'].fillna(X['station'].map(coordinate_dict['Latitude'])).values\n",
    "        X['Longitude'] = X['Longitude'].fillna(X['station'].map(coordinate_dict['Longitude'])).values\n",
    "        \n",
    "        #Fill NA for Legislation \n",
    "        X['Legislation'] = X['Legislation'].fillna('unknown')\n",
    "        \n",
    "        # Linked_search should be considered to False\n",
    "        # It was found that officers tend to forget to fill in a None when they don’t find anything. \n",
    "\n",
    "        X[['Part of a policing operation',\n",
    "                  'Outcome linked to object of search']] = X[['Part of a policing operation',\n",
    "                                                              'Outcome linked to object of search']].fillna(False).astype('boolean')\n",
    "        \n",
    "        # Stripped should be filled with False\n",
    "        # Except when it is Vehicle search, in which case it makes no sense and should be kept as NaN\n",
    "        # Otherwise should be considered as a data imputation error\n",
    "\n",
    "        #mask= ((X['type'] != 'Vehicle search') &               (X['stripped'].isna()))\n",
    "\n",
    "        #X.loc[mask, 'stripped'] = False\n",
    "\n",
    "        return X"
   ]
  },
  {
   "cell_type": "code",
   "execution_count": 19,
   "metadata": {},
   "outputs": [],
   "source": [
    "class DropColumns(BaseEstimator, TransformerMixin):\n",
    "    \n",
    "    def __init__(self, cols=[]):\n",
    "        self.cols = cols\n",
    "    \n",
    "    def fit(self, X=None, y=None, **fit_params):\n",
    "        return self\n",
    "    \n",
    "    def transform(self, data):\n",
    "        X = data.copy()\n",
    "        X = X.drop(self.cols,axis=1)\n",
    "        \n",
    "        # Remove certain Station due to data quality\n",
    "        # None successfull Search\n",
    "        X = X.loc[~X['station'].isin(['humberside','lancashire', 'metropolitan', 'leicestershire'])]\n",
    "        return X"
   ]
  },
  {
   "cell_type": "markdown",
   "metadata": {},
   "source": [
    "##### Transform Data"
   ]
  },
  {
   "cell_type": "code",
   "execution_count": 20,
   "metadata": {},
   "outputs": [],
   "source": [
    "drop_cols = ['Removal of more than just outer clothing',\n",
    "             'Self-defined ethnicity', \n",
    "             'Outcome', \n",
    "             'Outcome linked to object of search',\n",
    "             'positive_outcome']"
   ]
  },
  {
   "cell_type": "code",
   "execution_count": 21,
   "metadata": {},
   "outputs": [],
   "source": [
    "pipeline_clean = Pipeline([('FillNA', FillNA()),\n",
    "                           ('MergeCategories', MergeCategories()),\n",
    "                           ('ConvertDataTypes', ConvertDataTypes()),\n",
    "                           ('CreateFeatures', CreateFeatures()),\n",
    "                           ('DropFeatures', DropColumns(drop_cols))])"
   ]
  },
  {
   "cell_type": "code",
   "execution_count": 22,
   "metadata": {},
   "outputs": [],
   "source": [
    "df_processed = pipeline_clean.fit_transform(df_train)"
   ]
  },
  {
   "cell_type": "code",
   "execution_count": 23,
   "metadata": {},
   "outputs": [
    {
     "data": {
      "text/plain": [
       "Type                            0\n",
       "Date                            0\n",
       "Part of a policing operation    0\n",
       "Latitude                        0\n",
       "Longitude                       0\n",
       "Gender                          0\n",
       "Age range                       0\n",
       "Officer-defined ethnicity       0\n",
       "Legislation                     0\n",
       "Object of search                0\n",
       "station                         0\n",
       "hour                            0\n",
       "month                           0\n",
       "day_of_week                     0\n",
       "period                          0\n",
       "target                          0\n",
       "dtype: int64"
      ]
     },
     "execution_count": 23,
     "metadata": {},
     "output_type": "execute_result"
    }
   ],
   "source": [
    "df_processed.isna().sum()"
   ]
  },
  {
   "cell_type": "code",
   "execution_count": 24,
   "metadata": {},
   "outputs": [
    {
     "data": {
      "text/plain": [
       "6"
      ]
     },
     "execution_count": 24,
     "metadata": {},
     "output_type": "execute_result"
    }
   ],
   "source": [
    "df_processed['Legislation'].nunique()"
   ]
  },
  {
   "cell_type": "code",
   "execution_count": 25,
   "metadata": {},
   "outputs": [
    {
     "data": {
      "text/html": [
       "<div>\n",
       "<style scoped>\n",
       "    .dataframe tbody tr th:only-of-type {\n",
       "        vertical-align: middle;\n",
       "    }\n",
       "\n",
       "    .dataframe tbody tr th {\n",
       "        vertical-align: top;\n",
       "    }\n",
       "\n",
       "    .dataframe thead th {\n",
       "        text-align: right;\n",
       "    }\n",
       "</style>\n",
       "<table border=\"1\" class=\"dataframe\">\n",
       "  <thead>\n",
       "    <tr style=\"text-align: right;\">\n",
       "      <th></th>\n",
       "      <th>Type</th>\n",
       "      <th>Date</th>\n",
       "      <th>Part of a policing operation</th>\n",
       "      <th>Latitude</th>\n",
       "      <th>Longitude</th>\n",
       "      <th>Gender</th>\n",
       "      <th>Age range</th>\n",
       "      <th>Officer-defined ethnicity</th>\n",
       "      <th>Legislation</th>\n",
       "      <th>Object of search</th>\n",
       "      <th>station</th>\n",
       "      <th>hour</th>\n",
       "      <th>month</th>\n",
       "      <th>day_of_week</th>\n",
       "      <th>period</th>\n",
       "      <th>target</th>\n",
       "    </tr>\n",
       "    <tr>\n",
       "      <th>observation_id</th>\n",
       "      <th></th>\n",
       "      <th></th>\n",
       "      <th></th>\n",
       "      <th></th>\n",
       "      <th></th>\n",
       "      <th></th>\n",
       "      <th></th>\n",
       "      <th></th>\n",
       "      <th></th>\n",
       "      <th></th>\n",
       "      <th></th>\n",
       "      <th></th>\n",
       "      <th></th>\n",
       "      <th></th>\n",
       "      <th></th>\n",
       "      <th></th>\n",
       "    </tr>\n",
       "  </thead>\n",
       "  <tbody>\n",
       "    <tr>\n",
       "      <th>696ca8c4-6934-48d2-8c73-04af064992ce</th>\n",
       "      <td>person and vehicle search</td>\n",
       "      <td>2020-02-01 00:00:00+00:00</td>\n",
       "      <td>False</td>\n",
       "      <td>51.691896</td>\n",
       "      <td>-4.952055</td>\n",
       "      <td>male</td>\n",
       "      <td>over 34</td>\n",
       "      <td>white</td>\n",
       "      <td>misuse of drugs act 1971 (section 23)</td>\n",
       "      <td>controlled drugs</td>\n",
       "      <td>dyfed-powys</td>\n",
       "      <td>0</td>\n",
       "      <td>2</td>\n",
       "      <td>Saturday</td>\n",
       "      <td>Late Night</td>\n",
       "      <td>False</td>\n",
       "    </tr>\n",
       "  </tbody>\n",
       "</table>\n",
       "</div>"
      ],
      "text/plain": [
       "                                                           Type  \\\n",
       "observation_id                                                    \n",
       "696ca8c4-6934-48d2-8c73-04af064992ce  person and vehicle search   \n",
       "\n",
       "                                                          Date  \\\n",
       "observation_id                                                   \n",
       "696ca8c4-6934-48d2-8c73-04af064992ce 2020-02-01 00:00:00+00:00   \n",
       "\n",
       "                                      Part of a policing operation   Latitude  \\\n",
       "observation_id                                                                  \n",
       "696ca8c4-6934-48d2-8c73-04af064992ce                         False  51.691896   \n",
       "\n",
       "                                      Longitude Gender Age range  \\\n",
       "observation_id                                                     \n",
       "696ca8c4-6934-48d2-8c73-04af064992ce  -4.952055   male   over 34   \n",
       "\n",
       "                                     Officer-defined ethnicity  \\\n",
       "observation_id                                                   \n",
       "696ca8c4-6934-48d2-8c73-04af064992ce                     white   \n",
       "\n",
       "                                                                Legislation  \\\n",
       "observation_id                                                                \n",
       "696ca8c4-6934-48d2-8c73-04af064992ce  misuse of drugs act 1971 (section 23)   \n",
       "\n",
       "                                      Object of search      station  hour  \\\n",
       "observation_id                                                              \n",
       "696ca8c4-6934-48d2-8c73-04af064992ce  controlled drugs  dyfed-powys     0   \n",
       "\n",
       "                                      month day_of_week      period  target  \n",
       "observation_id                                                               \n",
       "696ca8c4-6934-48d2-8c73-04af064992ce      2    Saturday  Late Night   False  "
      ]
     },
     "execution_count": 25,
     "metadata": {},
     "output_type": "execute_result"
    }
   ],
   "source": [
    "df_processed.head(1)"
   ]
  },
  {
   "cell_type": "code",
   "execution_count": 26,
   "metadata": {},
   "outputs": [],
   "source": [
    "df_processed.to_csv(\"data/data_clean.csv\")"
   ]
  },
  {
   "cell_type": "code",
   "execution_count": 28,
   "metadata": {},
   "outputs": [
    {
     "data": {
      "image/png": "[encoded data removed]",
      "text/plain": [
       "<Figure size 2000x800 with 2 Axes>"
      ]
     },
     "metadata": {},
     "output_type": "display_data"
    }
   ],
   "source": [
    "corr_matrix = df_processed.corr(method='spearman')\n",
    "\n",
    "lower_triangle_mask = np.triu(np.ones(corr_matrix.shape)).astype(bool)\n",
    "cor_mat_lower = corr_matrix.mask(lower_triangle_mask)\n",
    "\n",
    "plt.figure(figsize = (20,8)) # <-- just sets the figure size \n",
    "plt.title(\"Correlation between features\")\n",
    "\n",
    "sns.heatmap(cor_mat_lower, \n",
    "            annot=True,     # <-- write the numbers on the squares\n",
    "            cmap='RdBu');"
   ]
  },
  {
   "cell_type": "code",
   "execution_count": 29,
   "metadata": {},
   "outputs": [
    {
     "data": {
      "text/plain": [
       "52.31354623836964"
      ]
     },
     "execution_count": 29,
     "metadata": {},
     "output_type": "execute_result"
    }
   ],
   "source": [
    "df_processed['Latitude'].mean()"
   ]
  },
  {
   "cell_type": "code",
   "execution_count": 30,
   "metadata": {},
   "outputs": [
    {
     "data": {
      "text/plain": [
       "-1.3242305606395774"
      ]
     },
     "execution_count": 30,
     "metadata": {},
     "output_type": "execute_result"
    }
   ],
   "source": [
    "df_processed['Longitude'].mean()"
   ]
  },
  {
   "cell_type": "code",
   "execution_count": null,
   "metadata": {},
   "outputs": [],
   "source": []
  }
 ],
 "metadata": {
  "kernelspec": {
   "display_name": "Python 3 (ipykernel)",
   "language": "python",
   "name": "python3"
  },
  "language_info": {
   "codemirror_mode": {
    "name": "ipython",
    "version": 3
   },
   "file_extension": ".py",
   "mimetype": "text/x-python",
   "name": "python",
   "nbconvert_exporter": "python",
   "pygments_lexer": "ipython3",
   "version": "3.8.14"
  }
 },
 "nbformat": 4,
 "nbformat_minor": 4
}
