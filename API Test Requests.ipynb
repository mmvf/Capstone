{
 "cells": [
  {
   "cell_type": "code",
   "execution_count": 1,
   "id": "7de6240c",
   "metadata": {},
   "outputs": [],
   "source": [
    "import json\n",
    "import requests"
   ]
  },
  {
   "cell_type": "markdown",
   "id": "5ef40647",
   "metadata": {},
   "source": [
    "#### Invalid Request"
   ]
  },
  {
   "cell_type": "code",
   "execution_count": 13,
   "id": "ce48118c",
   "metadata": {},
   "outputs": [],
   "source": [
    "#curl -X POST http://localhost:5000/should_search -d '{\"observation_id\": 1, \"Type\": 1, \"Date\": 1, \"Part of a policing operation\": 1, \"Latitude\": 1, \"Longitude\": 1, \"Gender\": 1, \"Age range\": 1, \"Officer-defined ethnicity\": 1, \"Legislation\": 1, \"Object of search\": 1, \"station\": 1}' -H \"Content-Type:application/json\""
   ]
  },
  {
   "cell_type": "code",
   "execution_count": 14,
   "id": "b08d7875",
   "metadata": {},
   "outputs": [],
   "source": [
    "#curl -X POST https://capstone-production-35e0.up.railway.app/should_search -d '{\"observation_id\": 1, \"Type\": 1, \"Date\": 1, \"Part of a policing operation\": 1, \"Latitude\": 1, \"Longitude\": 1, \"Gender\": 1, \"Age range\": 1, \"Officer-defined ethnicity\": 1, \"Legislation\": 1, \"Object of search\": 1, \"station\": 1}' -H \"Content-Type:application/json\""
   ]
  },
  {
   "cell_type": "markdown",
   "id": "a2e3dcf6",
   "metadata": {},
   "source": [
    "#### Valid Request"
   ]
  },
  {
   "cell_type": "code",
   "execution_count": null,
   "id": "8a87bd88",
   "metadata": {},
   "outputs": [],
   "source": [
    "#curl -X POST http://localhost:5000/should_search -d '{\"observation_id\": 1, \"Type\": \"Person search\", \"Date\": \"2020-01-08T18:52:50\", \"Part of a policing operation\": false, \"Latitude\": 49, \"Longitude\": -0.9, \"Gender\": \"Female\", \"Age range\": \"under 10\", \"Officer-defined ethnicity\":\"White\", \"Legislation\": \"Police and Criminal Evidence Act 1984 (section 1)\", \"Object of search\": \"Firearms\", \"station\": \"kent\"}' -H \"Content-Type:application/json\""
   ]
  },
  {
   "cell_type": "code",
   "execution_count": 62,
   "id": "a0e03146",
   "metadata": {},
   "outputs": [],
   "source": [
    "#curl -X POST https://capstone-production-35e0.up.railway.app/should_search/ -d '{\"observation_id\": \"1558a55e-3df2-4665-8beb-0f0c5eaa0468\", \"Type\": \"dummy search\", \"Date\": \"2022-04-06T18:25:00+00:00\", \"Part of a policing operation\": true, \"Latitude\": NaN, \"Longitude\": NaN, \"Gender\": \"Male\", \"Age range\": \"10-17\", \"Officer-defined ethnicity\": \"White\", \"Legislation\": \"Misuse of Drugs Act 1971 (section 23)\", \"Object of search\": \"Controlled drugs\", \"station\": \"nottinghamshire\"}' -H \"Content-Type:application/json\""
   ]
  },
  {
   "cell_type": "markdown",
   "id": "7cfe3c44",
   "metadata": {},
   "source": [
    "#### Trial Request"
   ]
  },
  {
   "cell_type": "code",
   "execution_count": 7,
   "id": "79dd436a",
   "metadata": {},
   "outputs": [],
   "source": [
    "url = f\"https://capstone-production-35e0.up.railway.app/should_search/\""
   ]
  },
  {
   "cell_type": "code",
   "execution_count": 8,
   "id": "a57beaab",
   "metadata": {},
   "outputs": [],
   "source": [
    "f = open('data/trial_moment_1.json')"
   ]
  },
  {
   "cell_type": "code",
   "execution_count": 9,
   "id": "42778bf9",
   "metadata": {},
   "outputs": [],
   "source": [
    "data = json.load(f)"
   ]
  },
  {
   "cell_type": "code",
   "execution_count": 10,
   "id": "09ca43f1",
   "metadata": {},
   "outputs": [],
   "source": [
    "f.close()"
   ]
  },
  {
   "cell_type": "code",
   "execution_count": 12,
   "id": "3271acf6",
   "metadata": {},
   "outputs": [
    {
     "name": "stdout",
     "output_type": "stream",
     "text": [
      "{'error': 'ERROR: Observation ID: \"1558a55e-3df2-4665-8beb-0f0c5eaa0408\" already exists', 'outcome': True}\n",
      "{'error': 'ERROR: Observation ID: \"eeb891e3-3913-4590-82a9-dc23c212dceb\" already exists', 'outcome': True}\n",
      "{'error': 'ERROR: Observation ID: \"898d6606-c55b-4a54-9480-f967beaff1cf\" already exists', 'outcome': True}\n",
      "{'error': 'ERROR: Observation ID: \"3ff08b3c-c1fc-4c9f-97fe-470cf3a61cef\" already exists', 'outcome': True}\n",
      "{'error': 'ERROR: Observation ID: \"73d7c589-7605-42ab-9c5c-d0fbb897adb0\" already exists', 'outcome': True}\n",
      "{'error': 'ERROR: Observation ID: \"1d276941-2dd7-4cc0-b14d-764ee8bcd966\" already exists', 'outcome': True}\n",
      "{'error': 'ERROR: Observation ID: \"fd0a32a8-1672-45da-bf93-b93524441b24\" already exists', 'outcome': True}\n",
      "{'error': 'ERROR: Observation ID: \"15af9195-3fa0-40aa-9083-da7767f0c801\" already exists', 'outcome': True}\n",
      "{'error': 'ERROR: Observation ID: \"9ac66922-d13b-4877-8bab-41ef925d3bb8\" already exists', 'outcome': True}\n",
      "{'error': 'ERROR: Observation ID: \"27dc412f-64e2-4245-9a25-db0514b2e980\" already exists', 'outcome': False}\n",
      "{'error': 'ERROR: Observation ID: \"aeed813b-d4e9-489d-81b3-9b8ec8f62d52\" already exists', 'outcome': True}\n",
      "{'error': 'ERROR: Observation ID: \"caabe84e-97e0-4305-b540-eda6d56e51f3\" already exists', 'outcome': True}\n",
      "{'error': 'ERROR: Observation ID: \"29d64e93-a47d-45ba-b02f-258f0c459091\" already exists', 'outcome': True}\n",
      "{'error': 'ERROR: Observation ID: \"1037c940-3a60-47eb-bef4-2596218725f0\" already exists', 'outcome': True}\n",
      "{'error': 'ERROR: Observation ID: \"923a1db5-1a27-4eb0-92ea-819c7ffdf85e\" already exists', 'outcome': True}\n",
      "{'error': 'ERROR: Observation ID: \"9249984b-5b19-4730-95d2-201197fff581\" already exists', 'outcome': True}\n",
      "{'error': 'ERROR: Observation ID: \"e477ebd7-a324-4d63-9def-51b5f6a81a54\" already exists', 'outcome': True}\n",
      "{'error': 'ERROR: Observation ID: \"d46707aa-cf72-4fb4-aa64-fe6eff29e8f7\" already exists', 'outcome': True}\n",
      "{'error': 'ERROR: Observation ID: \"06e5e365-15a8-465a-8092-eef6762a78d7\" already exists', 'outcome': True}\n",
      "{'error': 'ERROR: Observation ID: \"89f0b741-dd82-4600-8b98-4c3230a0540d\" already exists', 'outcome': True}\n"
     ]
    }
   ],
   "source": [
    "for d in data:\n",
    "    payload = dict(d['data'])\n",
    "    r = requests.post(url, data = json.dumps(payload), headers = {\"Content-Type\": \"application/json\"})\n",
    "    print(r.json())"
   ]
  },
  {
   "cell_type": "code",
   "execution_count": 29,
   "id": "85ffa026",
   "metadata": {},
   "outputs": [],
   "source": [
    "url = f\"https://capstone-production-35e0.up.railway.app/search_result/\""
   ]
  },
  {
   "cell_type": "code",
   "execution_count": 30,
   "id": "127e612f",
   "metadata": {},
   "outputs": [],
   "source": [
    "f = open('data/trial_moment_2.json')"
   ]
  },
  {
   "cell_type": "code",
   "execution_count": 31,
   "id": "6f8ca4f2",
   "metadata": {},
   "outputs": [],
   "source": [
    "data = json.load(f)"
   ]
  },
  {
   "cell_type": "code",
   "execution_count": 32,
   "id": "8763addb",
   "metadata": {},
   "outputs": [],
   "source": [
    "f.close()"
   ]
  },
  {
   "cell_type": "code",
   "execution_count": 34,
   "id": "6bbbf430",
   "metadata": {},
   "outputs": [
    {
     "name": "stdout",
     "output_type": "stream",
     "text": [
      "{'observation_id': '1558a55e-3df2-4665-8beb-0f0c5eaa0408', 'outcome': False, 'predicted_outcome': True}\n",
      "{'observation_id': 'eeb891e3-3913-4590-82a9-dc23c212dceb', 'outcome': True, 'predicted_outcome': True}\n",
      "{'observation_id': '898d6606-c55b-4a54-9480-f967beaff1cf', 'outcome': False, 'predicted_outcome': True}\n",
      "{'observation_id': '3ff08b3c-c1fc-4c9f-97fe-470cf3a61cef', 'outcome': False, 'predicted_outcome': True}\n",
      "{'observation_id': '73d7c589-7605-42ab-9c5c-d0fbb897adb0', 'outcome': False, 'predicted_outcome': True}\n",
      "{'observation_id': '1d276941-2dd7-4cc0-b14d-764ee8bcd966', 'outcome': False, 'predicted_outcome': True}\n",
      "{'observation_id': 'fd0a32a8-1672-45da-bf93-b93524441b24', 'outcome': True, 'predicted_outcome': True}\n",
      "{'observation_id': '15af9195-3fa0-40aa-9083-da7767f0c801', 'outcome': True, 'predicted_outcome': True}\n",
      "{'observation_id': '9ac66922-d13b-4877-8bab-41ef925d3bb8', 'outcome': True, 'predicted_outcome': True}\n",
      "{'observation_id': '27dc412f-64e2-4245-9a25-db0514b2e980', 'outcome': True, 'predicted_outcome': False}\n",
      "{'observation_id': 'aeed813b-d4e9-489d-81b3-9b8ec8f62d52', 'outcome': False, 'predicted_outcome': True}\n",
      "{'observation_id': 'caabe84e-97e0-4305-b540-eda6d56e51f3', 'outcome': True, 'predicted_outcome': True}\n",
      "{'observation_id': '29d64e93-a47d-45ba-b02f-258f0c459091', 'outcome': True, 'predicted_outcome': True}\n",
      "{'observation_id': '1037c940-3a60-47eb-bef4-2596218725f0', 'outcome': False, 'predicted_outcome': True}\n",
      "{'observation_id': '923a1db5-1a27-4eb0-92ea-819c7ffdf85e', 'outcome': True, 'predicted_outcome': True}\n",
      "{'observation_id': '9249984b-5b19-4730-95d2-201197fff581', 'outcome': False, 'predicted_outcome': True}\n",
      "{'observation_id': 'e477ebd7-a324-4d63-9def-51b5f6a81a54', 'outcome': True, 'predicted_outcome': True}\n",
      "{'observation_id': 'd46707aa-cf72-4fb4-aa64-fe6eff29e8f7', 'outcome': True, 'predicted_outcome': True}\n",
      "{'observation_id': '06e5e365-15a8-465a-8092-eef6762a78d7', 'outcome': False, 'predicted_outcome': True}\n",
      "{'observation_id': '89f0b741-dd82-4600-8b98-4c3230a0540d', 'outcome': False, 'predicted_outcome': True}\n"
     ]
    }
   ],
   "source": [
    "for d in data:\n",
    "    payload = dict(d['data'])\n",
    "    r = requests.post(url, data = json.dumps(payload), headers = {\"Content-Type\": \"application/json\"})\n",
    "    print(r.json())"
   ]
  },
  {
   "cell_type": "markdown",
   "id": "eee2b6d2",
   "metadata": {},
   "source": [
    "#### Unit Tests"
   ]
  },
  {
   "cell_type": "code",
   "execution_count": 28,
   "id": "8b5fb4b0",
   "metadata": {},
   "outputs": [],
   "source": [
    "url = f\"https://capstone-production-35e0.up.railway.app/should_search/\""
   ]
  },
  {
   "cell_type": "code",
   "execution_count": 29,
   "id": "5dc8e55d",
   "metadata": {},
   "outputs": [],
   "source": [
    "f = open('data/unit-tests.json')"
   ]
  },
  {
   "cell_type": "code",
   "execution_count": 30,
   "id": "ca886cac",
   "metadata": {},
   "outputs": [],
   "source": [
    "data = json.load(f)"
   ]
  },
  {
   "cell_type": "code",
   "execution_count": 31,
   "id": "6636fee0",
   "metadata": {},
   "outputs": [],
   "source": [
    "f.close()"
   ]
  },
  {
   "cell_type": "code",
   "execution_count": 32,
   "id": "cbb2a765",
   "metadata": {},
   "outputs": [
    {
     "name": "stdout",
     "output_type": "stream",
     "text": [
      "{'error': 'Field \"observation_id\" missing from request: {\\'Type\\': \\'Person search\\', \\'Date\\': \\'2022-04-06T18:25:00+00:00\\', \\'Part of a policing operation\\': True, \\'Latitude\\': nan, \\'Longitude\\': nan, \\'Gender\\': \\'Male\\', \\'Age range\\': \\'10-17\\', \\'Officer-defined ethnicity\\': \\'White\\', \\'Legislation\\': \\'Misuse of Drugs Act 1971 (section 23)\\', \\'Object of search\\': \\'Controlled drugs\\', \\'station\\': \\'nottinghamshire\\'}'}\n",
      "{'error': 'Invalid value provided for Type: Person & Dog search. Allowed values are: Person search,Person and Vehicle search,Vehicle search'}\n",
      "{'outcome': True}\n",
      "{'outcome': True}\n",
      "{'error': 'Invalid value provided for Age range: 10. Allowed values are: 18-24,over 34,10-17,25-34,under 10'}\n",
      "{'error': 'Invalid value provided for Part of a policing operation: Crazy. Allowed values are of type boolean or NaN'}\n",
      "{'error': 'Invalid value provided for Date: 19. Allowed values are of type string'}\n"
     ]
    }
   ],
   "source": [
    "for d in data:\n",
    "    payload = dict(d['data'])\n",
    "    r = requests.post(url, data = json.dumps(payload), headers = {\"Content-Type\": \"application/json\"})\n",
    "    print(r.json())"
   ]
  },
  {
   "cell_type": "code",
   "execution_count": null,
   "id": "b3182404",
   "metadata": {},
   "outputs": [],
   "source": []
  }
 ],
 "metadata": {
  "kernelspec": {
   "display_name": "Python 3 (ipykernel)",
   "language": "python",
   "name": "python3"
  },
  "language_info": {
   "codemirror_mode": {
    "name": "ipython",
    "version": 3
   },
   "file_extension": ".py",
   "mimetype": "text/x-python",
   "name": "python",
   "nbconvert_exporter": "python",
   "pygments_lexer": "ipython3",
   "version": "3.8.14"
  }
 },
 "nbformat": 4,
 "nbformat_minor": 5
}
