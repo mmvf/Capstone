{
 "cells": [
  {
   "cell_type": "code",
   "execution_count": 1,
   "id": "7de6240c",
   "metadata": {},
   "outputs": [],
   "source": [
    "import json\n",
    "import requests"
   ]
  },
  {
   "cell_type": "markdown",
   "id": "5ef40647",
   "metadata": {},
   "source": [
    "#### Invalid Request"
   ]
  },
  {
   "cell_type": "code",
   "execution_count": 13,
   "id": "ce48118c",
   "metadata": {},
   "outputs": [],
   "source": [
    "#curl -X POST http://localhost:5000/should_search -d '{\"observation_id\": 1, \"Type\": 1, \"Date\": 1, \"Part of a policing operation\": 1, \"Latitude\": 1, \"Longitude\": 1, \"Gender\": 1, \"Age range\": 1, \"Officer-defined ethnicity\": 1, \"Legislation\": 1, \"Object of search\": 1, \"station\": 1}' -H \"Content-Type:application/json\""
   ]
  },
  {
   "cell_type": "code",
   "execution_count": 14,
   "id": "b08d7875",
   "metadata": {},
   "outputs": [],
   "source": [
    "#curl -X POST https://capstone-production-35e0.up.railway.app/should_search -d '{\"observation_id\": 1, \"Type\": 1, \"Date\": 1, \"Part of a policing operation\": 1, \"Latitude\": 1, \"Longitude\": 1, \"Gender\": 1, \"Age range\": 1, \"Officer-defined ethnicity\": 1, \"Legislation\": 1, \"Object of search\": 1, \"station\": 1}' -H \"Content-Type:application/json\""
   ]
  },
  {
   "cell_type": "markdown",
   "id": "a2e3dcf6",
   "metadata": {},
   "source": [
    "#### Valid Request"
   ]
  },
  {
   "cell_type": "code",
   "execution_count": null,
   "id": "8a87bd88",
   "metadata": {},
   "outputs": [],
   "source": [
    "#curl -X POST http://localhost:5000/should_search -d '{\"observation_id\": 1, \"Type\": \"Person search\", \"Date\": \"2020-01-08T18:52:50\", \"Part of a policing operation\": false, \"Latitude\": 49, \"Longitude\": -0.9, \"Gender\": \"Female\", \"Age range\": \"under 10\", \"Officer-defined ethnicity\":\"White\", \"Legislation\": \"Police and Criminal Evidence Act 1984 (section 1)\", \"Object of search\": \"Firearms\", \"station\": \"kent\"}' -H \"Content-Type:application/json\""
   ]
  },
  {
   "cell_type": "code",
   "execution_count": null,
   "id": "a0e03146",
   "metadata": {},
   "outputs": [],
   "source": [
    "#curl -X POST https://capstone-production-35e0.up.railway.app/should_search -d '{\"observation_id\": 1, \"Type\": \"Person search\", \"Date\": \"2020-01-08T18:52:50\", \"Part of a policing operation\": false, \"Latitude\": 49, \"Longitude\": -0.9, \"Gender\": \"Female\", \"Age range\": \"under 10\", \"Officer-defined ethnicity\":\"White\", \"Legislation\": \"Police and Criminal Evidence Act 1984 (section 1)\", \"Object of search\": \"Firearms\", \"station\": \"kent\"}' -H \"Content-Type:application/json\""
   ]
  },
  {
   "cell_type": "markdown",
   "id": "7cfe3c44",
   "metadata": {},
   "source": [
    "#### Trial Request"
   ]
  },
  {
   "cell_type": "code",
   "execution_count": 2,
   "id": "79dd436a",
   "metadata": {},
   "outputs": [],
   "source": [
    "url = f\"https://capstone-production-35e0.up.railway.app/should_search/\""
   ]
  },
  {
   "cell_type": "code",
   "execution_count": 3,
   "id": "a57beaab",
   "metadata": {},
   "outputs": [],
   "source": [
    "f = open('data/trial_moment_1.json')"
   ]
  },
  {
   "cell_type": "code",
   "execution_count": 4,
   "id": "42778bf9",
   "metadata": {},
   "outputs": [],
   "source": [
    "data = json.load(f)"
   ]
  },
  {
   "cell_type": "code",
   "execution_count": 5,
   "id": "09ca43f1",
   "metadata": {},
   "outputs": [],
   "source": [
    "f.close()"
   ]
  },
  {
   "cell_type": "code",
   "execution_count": 13,
   "id": "3271acf6",
   "metadata": {},
   "outputs": [
    {
     "name": "stdout",
     "output_type": "stream",
     "text": [
      "{'error': 'ERROR: Observation ID: \"1558a55e-3df2-4665-8beb-0f0c5eaa0408\" already exists', 'outcome': True}\n",
      "{'error': 'Invalid value provided for Part of a policing operation: nan. Allowed values are: True,False,None'}\n",
      "{'error': 'ERROR: Observation ID: \"898d6606-c55b-4a54-9480-f967beaff1cf\" already exists', 'outcome': True}\n",
      "{'error': 'ERROR: Observation ID: \"3ff08b3c-c1fc-4c9f-97fe-470cf3a61cef\" already exists', 'outcome': True}\n",
      "{'error': 'Invalid value provided for Part of a policing operation: nan. Allowed values are: True,False,None'}\n",
      "{'error': 'ERROR: Observation ID: \"1d276941-2dd7-4cc0-b14d-764ee8bcd966\" already exists', 'outcome': True}\n",
      "{'error': 'Invalid value provided for Part of a policing operation: nan. Allowed values are: True,False,None'}\n",
      "{'error': 'Invalid value provided for Part of a policing operation: nan. Allowed values are: True,False,None'}\n",
      "{'error': 'Invalid value provided for Part of a policing operation: nan. Allowed values are: True,False,None'}\n",
      "{'error': 'ERROR: Observation ID: \"27dc412f-64e2-4245-9a25-db0514b2e980\" already exists', 'outcome': False}\n",
      "{'error': 'Invalid value provided for Part of a policing operation: nan. Allowed values are: True,False,None'}\n",
      "{'error': 'Invalid value provided for Part of a policing operation: nan. Allowed values are: True,False,None'}\n",
      "{'error': 'ERROR: Observation ID: \"29d64e93-a47d-45ba-b02f-258f0c459091\" already exists', 'outcome': True}\n",
      "{'error': 'Invalid value provided for Part of a policing operation: nan. Allowed values are: True,False,None'}\n",
      "{'error': 'Invalid value provided for Part of a policing operation: nan. Allowed values are: True,False,None'}\n",
      "{'error': 'ERROR: Observation ID: \"9249984b-5b19-4730-95d2-201197fff581\" already exists', 'outcome': True}\n",
      "{'error': 'Invalid value provided for Part of a policing operation: nan. Allowed values are: True,False,None'}\n",
      "{'error': 'ERROR: Observation ID: \"d46707aa-cf72-4fb4-aa64-fe6eff29e8f7\" already exists', 'outcome': True}\n",
      "{'error': 'Invalid value provided for Part of a policing operation: nan. Allowed values are: True,False,None'}\n",
      "{'error': 'Invalid value provided for Part of a policing operation: nan. Allowed values are: True,False,None'}\n"
     ]
    }
   ],
   "source": [
    "for d in data:\n",
    "    payload = dict(d['data'])\n",
    "    r = requests.post(url, data = json.dumps(payload), headers = {\"Content-Type\": \"application/json\"})\n",
    "    print(r.json())"
   ]
  },
  {
   "cell_type": "code",
   "execution_count": null,
   "id": "127e612f",
   "metadata": {},
   "outputs": [],
   "source": [
    "f = open('data/trial_moment_2.json')"
   ]
  },
  {
   "cell_type": "code",
   "execution_count": 4,
   "id": "63cc073d",
   "metadata": {},
   "outputs": [],
   "source": [
    "data = json.load(f)"
   ]
  },
  {
   "cell_type": "code",
   "execution_count": 5,
   "id": "5a192f22",
   "metadata": {},
   "outputs": [],
   "source": [
    "f.close()"
   ]
  },
  {
   "cell_type": "code",
   "execution_count": 13,
   "id": "6fea25bb",
   "metadata": {},
   "outputs": [
    {
     "name": "stdout",
     "output_type": "stream",
     "text": [
      "{'error': 'ERROR: Observation ID: \"1558a55e-3df2-4665-8beb-0f0c5eaa0408\" already exists', 'outcome': True}\n",
      "{'error': 'Invalid value provided for Part of a policing operation: nan. Allowed values are: True,False,None'}\n",
      "{'error': 'ERROR: Observation ID: \"898d6606-c55b-4a54-9480-f967beaff1cf\" already exists', 'outcome': True}\n",
      "{'error': 'ERROR: Observation ID: \"3ff08b3c-c1fc-4c9f-97fe-470cf3a61cef\" already exists', 'outcome': True}\n",
      "{'error': 'Invalid value provided for Part of a policing operation: nan. Allowed values are: True,False,None'}\n",
      "{'error': 'ERROR: Observation ID: \"1d276941-2dd7-4cc0-b14d-764ee8bcd966\" already exists', 'outcome': True}\n",
      "{'error': 'Invalid value provided for Part of a policing operation: nan. Allowed values are: True,False,None'}\n",
      "{'error': 'Invalid value provided for Part of a policing operation: nan. Allowed values are: True,False,None'}\n",
      "{'error': 'Invalid value provided for Part of a policing operation: nan. Allowed values are: True,False,None'}\n",
      "{'error': 'ERROR: Observation ID: \"27dc412f-64e2-4245-9a25-db0514b2e980\" already exists', 'outcome': False}\n",
      "{'error': 'Invalid value provided for Part of a policing operation: nan. Allowed values are: True,False,None'}\n",
      "{'error': 'Invalid value provided for Part of a policing operation: nan. Allowed values are: True,False,None'}\n",
      "{'error': 'ERROR: Observation ID: \"29d64e93-a47d-45ba-b02f-258f0c459091\" already exists', 'outcome': True}\n",
      "{'error': 'Invalid value provided for Part of a policing operation: nan. Allowed values are: True,False,None'}\n",
      "{'error': 'Invalid value provided for Part of a policing operation: nan. Allowed values are: True,False,None'}\n",
      "{'error': 'ERROR: Observation ID: \"9249984b-5b19-4730-95d2-201197fff581\" already exists', 'outcome': True}\n",
      "{'error': 'Invalid value provided for Part of a policing operation: nan. Allowed values are: True,False,None'}\n",
      "{'error': 'ERROR: Observation ID: \"d46707aa-cf72-4fb4-aa64-fe6eff29e8f7\" already exists', 'outcome': True}\n",
      "{'error': 'Invalid value provided for Part of a policing operation: nan. Allowed values are: True,False,None'}\n",
      "{'error': 'Invalid value provided for Part of a policing operation: nan. Allowed values are: True,False,None'}\n"
     ]
    }
   ],
   "source": [
    "for d in data:\n",
    "    payload = dict(d['data'])\n",
    "    r = requests.post(url, data = json.dumps(payload), headers = {\"Content-Type\": \"application/json\"})\n",
    "    print(r.json())"
   ]
  }
 ],
 "metadata": {
  "kernelspec": {
   "display_name": "Python 3 (ipykernel)",
   "language": "python",
   "name": "python3"
  },
  "language_info": {
   "codemirror_mode": {
    "name": "ipython",
    "version": 3
   },
   "file_extension": ".py",
   "mimetype": "text/x-python",
   "name": "python",
   "nbconvert_exporter": "python",
   "pygments_lexer": "ipython3",
   "version": "3.8.14"
  }
 },
 "nbformat": 4,
 "nbformat_minor": 5
}
