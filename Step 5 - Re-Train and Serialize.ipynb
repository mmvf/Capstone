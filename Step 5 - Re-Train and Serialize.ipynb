{
 "cells": [
  {
   "cell_type": "code",
   "execution_count": 2,
   "metadata": {},
   "outputs": [],
   "source": [
    "#!pip install category_encoders\n",
    "import category_encoders\n",
    "import json\n",
    "import pandas as pd\n",
    "import numpy as np\n",
    "import matplotlib.pyplot as plt \n",
    "import mimetypes\n",
    "import seaborn as sns \n",
    "import pickle\n",
    "\n",
    "from sklearn.impute import SimpleImputer\n",
    "from sklearn.linear_model import LogisticRegression\n",
    "from sklearn.pipeline import make_pipeline, Pipeline\n",
    "from sklearn.preprocessing import OneHotEncoder, RobustScaler, OrdinalEncoder, StandardScaler\n",
    "from sklearn.model_selection import train_test_split, GridSearchCV, RandomizedSearchCV\n",
    "from sklearn.metrics import confusion_matrix, accuracy_score, precision_recall_curve, roc_auc_score, roc_curve, classification_report, auc, precision_score, recall_score\n",
    "from sklearn.base import BaseEstimator, TransformerMixin # to create classes\n",
    "from sklearn.compose import ColumnTransformer\n",
    "from sklearn.neighbors import KNeighborsClassifier\n",
    "from sklearn.ensemble import RandomForestClassifier, GradientBoostingClassifier\n",
    "from sklearn.svm import SVC\n",
    "from matplotlib.colors import ListedColormap\n",
    "from sklearn.model_selection import cross_val_score\n",
    "\n",
    "#! pip install xgboost\n",
    "\n",
    "from xgboost import XGBClassifier\n",
    "\n",
    "import warnings"
   ]
  },
  {
   "cell_type": "code",
   "execution_count": 3,
   "metadata": {},
   "outputs": [],
   "source": [
    "color_list = ['#F8C471','#F1948A', '#7FB3D5', '#D2B4DE', '#A2D9CE']"
   ]
  },
  {
   "cell_type": "markdown",
   "metadata": {},
   "source": [
    "### Table of contents\n",
    "[1. Preserving your model](#1.-Preserving-your-model)   \n",
    "[2. Train your model](#2.-Train-your-model)   \n",
    "&emsp;[2.1 Let's build the pipeline](#2.1-Let's-build-the-pipeline)   \n",
    "&emsp;[2.2 Predicting on new observations](#2.2-Predicting-on-new-observations)   \n",
    "[3. Serialization of the necessary components](#3.-Serialization-of-the-necessary-components)   \n",
    "&emsp;[3.1 Serializing the columns in the correct order](#3.1-Serializing-the-columns-in-the-correct-order)   \n",
    "&emsp;[3.2 Serializing the fitted pipeline](#3.2-Serializing-the-fitted-pipeline)   \n",
    "&emsp;[3.3 Serializing the dtypes of the columns](#3.3-Serializing-the-dtypes-of-the-columns)"
   ]
  },
  {
   "cell_type": "markdown",
   "metadata": {},
   "source": [
    "# 1. Preserving your model\n",
    "\n",
    "In this learning unit you will learn how to preserve your model so that the value it generates can be used in a separate process or program than the one in which it was fitted. There are a few different ways to do this but for this specialization we will be using the following tools:\n",
    "\n",
    "1. [pickle](https://docs.python.org/3/library/pickle.html) from python core\n",
    "1. [pipelines](https://scikit-learn.org/stable/modules/compose.html#pipelines-and-composite-estimators) from scikit\n",
    "\n",
    "This will be our journey:\n",
    "\n",
    "1. **Train**: We are going to first train a model on the classic titanic dataset. We will use this one because it has categorical and numeric features, and missing values in both types.\n",
    "\n",
    "2. **Serialize**: Once the model has been trained as part of a pipeline, we will [serialize] https://en.wikipedia.org/wiki/Serialization) it using the [pickle](https://docs.python.org/3/library/pickle.html) package that is found in python's core.\n",
    "\n",
    "3. **Predict on new data**: After we are confident we can retrieve the pickled model from the disk, we will show how to prepare a brand new observation for prediction with the model."
   ]
  },
  {
   "cell_type": "markdown",
   "metadata": {},
   "source": [
    "# 2. Train your model"
   ]
  },
  {
   "cell_type": "code",
   "execution_count": 6,
   "metadata": {},
   "outputs": [
    {
     "data": {
      "text/html": [
       "<div>\n",
       "<style scoped>\n",
       "    .dataframe tbody tr th:only-of-type {\n",
       "        vertical-align: middle;\n",
       "    }\n",
       "\n",
       "    .dataframe tbody tr th {\n",
       "        vertical-align: top;\n",
       "    }\n",
       "\n",
       "    .dataframe thead th {\n",
       "        text-align: right;\n",
       "    }\n",
       "</style>\n",
       "<table border=\"1\" class=\"dataframe\">\n",
       "  <thead>\n",
       "    <tr style=\"text-align: right;\">\n",
       "      <th></th>\n",
       "      <th>Type</th>\n",
       "      <th>Date</th>\n",
       "      <th>Part of a policing operation</th>\n",
       "      <th>Latitude</th>\n",
       "      <th>Longitude</th>\n",
       "      <th>Gender</th>\n",
       "      <th>Age range</th>\n",
       "      <th>Officer-defined ethnicity</th>\n",
       "      <th>Legislation</th>\n",
       "      <th>Object of search</th>\n",
       "      <th>station</th>\n",
       "      <th>hour</th>\n",
       "      <th>month</th>\n",
       "      <th>day_of_week</th>\n",
       "      <th>period</th>\n",
       "      <th>target</th>\n",
       "    </tr>\n",
       "    <tr>\n",
       "      <th>observation_id</th>\n",
       "      <th></th>\n",
       "      <th></th>\n",
       "      <th></th>\n",
       "      <th></th>\n",
       "      <th></th>\n",
       "      <th></th>\n",
       "      <th></th>\n",
       "      <th></th>\n",
       "      <th></th>\n",
       "      <th></th>\n",
       "      <th></th>\n",
       "      <th></th>\n",
       "      <th></th>\n",
       "      <th></th>\n",
       "      <th></th>\n",
       "      <th></th>\n",
       "    </tr>\n",
       "  </thead>\n",
       "  <tbody>\n",
       "    <tr>\n",
       "      <th>696ca8c4-6934-48d2-8c73-04af064992ce</th>\n",
       "      <td>person and vehicle search</td>\n",
       "      <td>2020-02-01 00:00:00+00:00</td>\n",
       "      <td>False</td>\n",
       "      <td>51.691896</td>\n",
       "      <td>-4.952055</td>\n",
       "      <td>male</td>\n",
       "      <td>over 34</td>\n",
       "      <td>white</td>\n",
       "      <td>misuse of drugs act 1971 (section 23)</td>\n",
       "      <td>controlled drugs</td>\n",
       "      <td>dyfed-powys</td>\n",
       "      <td>0</td>\n",
       "      <td>2</td>\n",
       "      <td>Saturday</td>\n",
       "      <td>Late Night</td>\n",
       "      <td>False</td>\n",
       "    </tr>\n",
       "    <tr>\n",
       "      <th>b399fbcb-c27e-420b-b5ef-98f501765fc6</th>\n",
       "      <td>person search</td>\n",
       "      <td>2020-02-01 00:00:00+00:00</td>\n",
       "      <td>False</td>\n",
       "      <td>50.785798</td>\n",
       "      <td>0.263758</td>\n",
       "      <td>male</td>\n",
       "      <td>under 18</td>\n",
       "      <td>white</td>\n",
       "      <td>police and criminal evidence act 1984 (section 1)</td>\n",
       "      <td>article for use in theft</td>\n",
       "      <td>sussex</td>\n",
       "      <td>0</td>\n",
       "      <td>2</td>\n",
       "      <td>Saturday</td>\n",
       "      <td>Late Night</td>\n",
       "      <td>False</td>\n",
       "    </tr>\n",
       "    <tr>\n",
       "      <th>29b57000-40bf-458f-91fd-35f7c292f5e7</th>\n",
       "      <td>person search</td>\n",
       "      <td>2020-02-01 00:00:00+00:00</td>\n",
       "      <td>False</td>\n",
       "      <td>50.784128</td>\n",
       "      <td>0.291258</td>\n",
       "      <td>male</td>\n",
       "      <td>under 18</td>\n",
       "      <td>white</td>\n",
       "      <td>police and criminal evidence act 1984 (section 1)</td>\n",
       "      <td>article for use in theft</td>\n",
       "      <td>sussex</td>\n",
       "      <td>0</td>\n",
       "      <td>2</td>\n",
       "      <td>Saturday</td>\n",
       "      <td>Late Night</td>\n",
       "      <td>False</td>\n",
       "    </tr>\n",
       "    <tr>\n",
       "      <th>2ccc1515-e2ed-45c4-a810-8e72f93cde50</th>\n",
       "      <td>person and vehicle search</td>\n",
       "      <td>2020-02-01 00:00:00+00:00</td>\n",
       "      <td>False</td>\n",
       "      <td>50.846339</td>\n",
       "      <td>0.469754</td>\n",
       "      <td>male</td>\n",
       "      <td>under 18</td>\n",
       "      <td>white</td>\n",
       "      <td>police and criminal evidence act 1984 (section 1)</td>\n",
       "      <td>article for use in theft</td>\n",
       "      <td>sussex</td>\n",
       "      <td>0</td>\n",
       "      <td>2</td>\n",
       "      <td>Saturday</td>\n",
       "      <td>Late Night</td>\n",
       "      <td>False</td>\n",
       "    </tr>\n",
       "    <tr>\n",
       "      <th>72853059-43dd-4594-8183-21c4cb68ca2a</th>\n",
       "      <td>person search</td>\n",
       "      <td>2020-02-01 00:00:00+00:00</td>\n",
       "      <td>False</td>\n",
       "      <td>54.853138</td>\n",
       "      <td>-6.694079</td>\n",
       "      <td>female</td>\n",
       "      <td>over 34</td>\n",
       "      <td>white</td>\n",
       "      <td>misuse of drugs act 1971 (section 23)</td>\n",
       "      <td>controlled drugs</td>\n",
       "      <td>sussex</td>\n",
       "      <td>0</td>\n",
       "      <td>2</td>\n",
       "      <td>Saturday</td>\n",
       "      <td>Late Night</td>\n",
       "      <td>False</td>\n",
       "    </tr>\n",
       "  </tbody>\n",
       "</table>\n",
       "</div>"
      ],
      "text/plain": [
       "                                                           Type  \\\n",
       "observation_id                                                    \n",
       "696ca8c4-6934-48d2-8c73-04af064992ce  person and vehicle search   \n",
       "b399fbcb-c27e-420b-b5ef-98f501765fc6              person search   \n",
       "29b57000-40bf-458f-91fd-35f7c292f5e7              person search   \n",
       "2ccc1515-e2ed-45c4-a810-8e72f93cde50  person and vehicle search   \n",
       "72853059-43dd-4594-8183-21c4cb68ca2a              person search   \n",
       "\n",
       "                                                           Date  \\\n",
       "observation_id                                                    \n",
       "696ca8c4-6934-48d2-8c73-04af064992ce  2020-02-01 00:00:00+00:00   \n",
       "b399fbcb-c27e-420b-b5ef-98f501765fc6  2020-02-01 00:00:00+00:00   \n",
       "29b57000-40bf-458f-91fd-35f7c292f5e7  2020-02-01 00:00:00+00:00   \n",
       "2ccc1515-e2ed-45c4-a810-8e72f93cde50  2020-02-01 00:00:00+00:00   \n",
       "72853059-43dd-4594-8183-21c4cb68ca2a  2020-02-01 00:00:00+00:00   \n",
       "\n",
       "                                      Part of a policing operation   Latitude  \\\n",
       "observation_id                                                                  \n",
       "696ca8c4-6934-48d2-8c73-04af064992ce                         False  51.691896   \n",
       "b399fbcb-c27e-420b-b5ef-98f501765fc6                         False  50.785798   \n",
       "29b57000-40bf-458f-91fd-35f7c292f5e7                         False  50.784128   \n",
       "2ccc1515-e2ed-45c4-a810-8e72f93cde50                         False  50.846339   \n",
       "72853059-43dd-4594-8183-21c4cb68ca2a                         False  54.853138   \n",
       "\n",
       "                                      Longitude  Gender Age range  \\\n",
       "observation_id                                                      \n",
       "696ca8c4-6934-48d2-8c73-04af064992ce  -4.952055    male   over 34   \n",
       "b399fbcb-c27e-420b-b5ef-98f501765fc6   0.263758    male  under 18   \n",
       "29b57000-40bf-458f-91fd-35f7c292f5e7   0.291258    male  under 18   \n",
       "2ccc1515-e2ed-45c4-a810-8e72f93cde50   0.469754    male  under 18   \n",
       "72853059-43dd-4594-8183-21c4cb68ca2a  -6.694079  female   over 34   \n",
       "\n",
       "                                     Officer-defined ethnicity  \\\n",
       "observation_id                                                   \n",
       "696ca8c4-6934-48d2-8c73-04af064992ce                     white   \n",
       "b399fbcb-c27e-420b-b5ef-98f501765fc6                     white   \n",
       "29b57000-40bf-458f-91fd-35f7c292f5e7                     white   \n",
       "2ccc1515-e2ed-45c4-a810-8e72f93cde50                     white   \n",
       "72853059-43dd-4594-8183-21c4cb68ca2a                     white   \n",
       "\n",
       "                                                                            Legislation  \\\n",
       "observation_id                                                                            \n",
       "696ca8c4-6934-48d2-8c73-04af064992ce              misuse of drugs act 1971 (section 23)   \n",
       "b399fbcb-c27e-420b-b5ef-98f501765fc6  police and criminal evidence act 1984 (section 1)   \n",
       "29b57000-40bf-458f-91fd-35f7c292f5e7  police and criminal evidence act 1984 (section 1)   \n",
       "2ccc1515-e2ed-45c4-a810-8e72f93cde50  police and criminal evidence act 1984 (section 1)   \n",
       "72853059-43dd-4594-8183-21c4cb68ca2a              misuse of drugs act 1971 (section 23)   \n",
       "\n",
       "                                              Object of search      station  \\\n",
       "observation_id                                                                \n",
       "696ca8c4-6934-48d2-8c73-04af064992ce          controlled drugs  dyfed-powys   \n",
       "b399fbcb-c27e-420b-b5ef-98f501765fc6  article for use in theft       sussex   \n",
       "29b57000-40bf-458f-91fd-35f7c292f5e7  article for use in theft       sussex   \n",
       "2ccc1515-e2ed-45c4-a810-8e72f93cde50  article for use in theft       sussex   \n",
       "72853059-43dd-4594-8183-21c4cb68ca2a          controlled drugs       sussex   \n",
       "\n",
       "                                      hour  month day_of_week      period  \\\n",
       "observation_id                                                              \n",
       "696ca8c4-6934-48d2-8c73-04af064992ce     0      2    Saturday  Late Night   \n",
       "b399fbcb-c27e-420b-b5ef-98f501765fc6     0      2    Saturday  Late Night   \n",
       "29b57000-40bf-458f-91fd-35f7c292f5e7     0      2    Saturday  Late Night   \n",
       "2ccc1515-e2ed-45c4-a810-8e72f93cde50     0      2    Saturday  Late Night   \n",
       "72853059-43dd-4594-8183-21c4cb68ca2a     0      2    Saturday  Late Night   \n",
       "\n",
       "                                      target  \n",
       "observation_id                                \n",
       "696ca8c4-6934-48d2-8c73-04af064992ce   False  \n",
       "b399fbcb-c27e-420b-b5ef-98f501765fc6   False  \n",
       "29b57000-40bf-458f-91fd-35f7c292f5e7   False  \n",
       "2ccc1515-e2ed-45c4-a810-8e72f93cde50   False  \n",
       "72853059-43dd-4594-8183-21c4cb68ca2a   False  "
      ]
     },
     "execution_count": 6,
     "metadata": {},
     "output_type": "execute_result"
    }
   ],
   "source": [
    "df = pd.read_csv('data/data_clean.csv').set_index('observation_id')\n",
    "df.head()"
   ]
  },
  {
   "cell_type": "code",
   "execution_count": 7,
   "metadata": {},
   "outputs": [],
   "source": [
    "features =  ['Type',\n",
    "             'Part of a policing operation',\n",
    "             'Latitude',\n",
    "             'Longitude', \n",
    "             'Gender', \n",
    "             'Age range', \n",
    "             'Officer-defined ethnicity', \n",
    "             'Legislation', \n",
    "             'Object of search', \n",
    "             'station',\n",
    "             'hour', \n",
    "             'month', \n",
    "             'day_of_week',\n",
    "             'period']"
   ]
  },
  {
   "cell_type": "markdown",
   "metadata": {},
   "source": [
    "#### Train/Validation Split"
   ]
  },
  {
   "cell_type": "code",
   "execution_count": 11,
   "metadata": {},
   "outputs": [],
   "source": [
    "X_train = df[features]\n",
    "y_train = df['target']"
   ]
  },
  {
   "cell_type": "code",
   "execution_count": 12,
   "metadata": {},
   "outputs": [],
   "source": [
    "df_test = pd.read_csv('data/data_test_clean.csv',  \n",
    "                      index_col='observation_id')"
   ]
  },
  {
   "cell_type": "code",
   "execution_count": 13,
   "metadata": {},
   "outputs": [],
   "source": [
    "X_val = df_test[features]\n",
    "y_val = df_test['target']"
   ]
  },
  {
   "cell_type": "markdown",
   "metadata": {},
   "source": [
    "#### Creating the Pipeline"
   ]
  },
  {
   "cell_type": "code",
   "execution_count": 14,
   "metadata": {},
   "outputs": [],
   "source": [
    "numerical_columns = ['Latitude', \n",
    "                     'Longitude', \n",
    "                     'hour', \n",
    "                     'month']\n",
    "categorical_columns = [#'day_of_week',\n",
    "                       #'period'\n",
    "                      ]\n",
    "categorical_oe_columns = [\n",
    "                          'Part of a policing operation',\n",
    "                          'Type', \n",
    "                          #'Gender', \n",
    "                          #'Age range', \n",
    "                          #'Officer-defined ethnicity', \n",
    "                          'Legislation', \n",
    "                          'Object of search',    \n",
    "                          'station',\n",
    "                          'day_of_week', \n",
    "                          'period',\n",
    "                         ]"
   ]
  },
  {
   "cell_type": "code",
   "execution_count": 15,
   "metadata": {},
   "outputs": [],
   "source": [
    "num_transformer = Pipeline(steps=[\n",
    "    ('fillna', SimpleImputer(strategy='median')),\n",
    "    ('scaler', RobustScaler())\n",
    "])"
   ]
  },
  {
   "cell_type": "code",
   "execution_count": 16,
   "metadata": {},
   "outputs": [],
   "source": [
    "cat_transformer = Pipeline(steps=[\n",
    "    ('ordinal', OrdinalEncoder(categories=[[ 'Monday', 'Tuesday', 'Wednesday','Thursday','Friday','Saturday','Sunday']\n",
    "                                           #['Late Night', 'Early Morning', 'Morning', 'Noon', 'Evening', 'Night']\n",
    "                                          ], \n",
    "                               handle_unknown='use_encoded_value',\n",
    "                               unknown_value = -1))\n",
    "])"
   ]
  },
  {
   "cell_type": "code",
   "execution_count": 17,
   "metadata": {},
   "outputs": [],
   "source": [
    "cat_transformer_oh = Pipeline(steps=[\n",
    "    ('onehot', OneHotEncoder(handle_unknown = 'ignore'))\n",
    "])"
   ]
  },
  {
   "cell_type": "code",
   "execution_count": 18,
   "metadata": {},
   "outputs": [],
   "source": [
    "preprocessor = ColumnTransformer(\n",
    "    transformers=[\n",
    "    ('num', num_transformer, numerical_columns),\n",
    "    ('cat', cat_transformer, categorical_columns),\n",
    "    ('cat_oh', cat_transformer_oh, categorical_oe_columns)\n",
    "    ]\n",
    ")"
   ]
  },
  {
   "cell_type": "code",
   "execution_count": 19,
   "metadata": {},
   "outputs": [],
   "source": [
    "pipeline_lr = Pipeline([(\"preprocessor\", preprocessor),\n",
    "                        ('classifier_LogisticRegression', LogisticRegression(solver='liblinear', random_state=42))])\n",
    "\n",
    "pipeline_rf = Pipeline([(\"preprocessor\", preprocessor),\n",
    "                        ('classifier_RandomForest', RandomForestClassifier(random_state=42,\n",
    "                                                   n_estimators = 500,\n",
    "                                                   min_samples_split = 1575,\n",
    "                                                   min_samples_leaf = 100,\n",
    "                                                   max_depth = 10,\n",
    "                                                   max_features = 19))])\n",
    "\n",
    "pipeline_gb = make_pipeline(preprocessor,\n",
    "                        GradientBoostingClassifier(random_state=42,\n",
    "                                                   n_estimators = 500,\n",
    "                                                   learning_rate = 0.1,\n",
    "                                                   min_samples_split = 1575,\n",
    "                                                   min_samples_leaf = 100,\n",
    "                                                   max_depth = 10,\n",
    "                                                   max_features = 19,\n",
    "                                                   subsample=0.8),)\n",
    "\n",
    "pipeline_xgb = make_pipeline(preprocessor,\n",
    "                             XGBClassifier(learning_rate = 0.1,\n",
    "                                           n_estimators = 250,\n",
    "                                           max_depth= 9, \n",
    "                                           min_child_weight = 1,\n",
    "                                           gamma = 0,\n",
    "                                           subsample = 0.8,\n",
    "                                           colsample_bytree = 0.8,\n",
    "                                           objective= 'binary:logistic', \n",
    "                                           nthread = -1, \n",
    "                                           scale_pos_weight = 1,\n",
    "                                           reg_alpha = 1e-5,\n",
    "                                           seed=42))\n",
    "\n",
    "pipelines = [pipeline_lr, \n",
    "             pipeline_rf, \n",
    "             pipeline_gb, \n",
    "             pipeline_xgb]\n",
    "pipe_dict = {0: 'Logistic Regression', 1:'Random Forest', 2: 'Gradient Boosting', 3: 'XGB Classifier'}\n",
    "\n",
    "for pipe in pipelines:\n",
    "    pipe.fit(X_train, y_train)"
   ]
  },
  {
   "cell_type": "code",
   "execution_count": 76,
   "metadata": {},
   "outputs": [
    {
     "name": "stdout",
     "output_type": "stream",
     "text": [
      "Logistic Regression\n",
      "ROC_AUC:\t 0.6038256316331178\n",
      "Threshold:\t 0.1939869042235219\n",
      "Precision:\t 0.25\n",
      "Recall:\t\t 0.7848970251716247\n"
     ]
    },
    {
     "data": {
      "image/png": "[encoded data removed]",
      "text/plain": [
       "<Figure size 900x400 with 2 Axes>"
      ]
     },
     "metadata": {},
     "output_type": "display_data"
    },
    {
     "name": "stdout",
     "output_type": "stream",
     "text": [
      "Random Forest\n",
      "ROC_AUC:\t 0.6152573968092225\n",
      "Threshold:\t 0.1880078869873706\n",
      "Precision:\t 0.25\n",
      "Recall:\t\t 0.8375286041189931\n"
     ]
    },
    {
     "data": {
      "image/png": "[encoded data removed]",
      "text/plain": [
       "<Figure size 900x400 with 2 Axes>"
      ]
     },
     "metadata": {},
     "output_type": "display_data"
    },
    {
     "name": "stdout",
     "output_type": "stream",
     "text": [
      "Gradient Boosting\n",
      "ROC_AUC:\t 0.6201969603136608\n",
      "Threshold:\t 0.12541955931903664\n",
      "Precision:\t 0.25\n",
      "Recall:\t\t 0.88558352402746\n"
     ]
    },
    {
     "data": {
      "image/png": "[encoded data removed]",
      "text/plain": [
       "<Figure size 900x400 with 2 Axes>"
      ]
     },
     "metadata": {},
     "output_type": "display_data"
    },
    {
     "name": "stdout",
     "output_type": "stream",
     "text": [
      "XGB Classifier\n",
      "ROC_AUC:\t 0.6187843231127138\n",
      "Threshold:\t 0.13194668\n",
      "Precision:\t 0.25\n",
      "Recall:\t\t 0.8695652173913043\n"
     ]
    },
    {
     "data": {
      "image/png": "[encoded data removed]",
      "text/plain": [
       "<Figure size 900x400 with 2 Axes>"
      ]
     },
     "metadata": {},
     "output_type": "display_data"
    },
    {
     "name": "stdout",
     "output_type": "stream",
     "text": [
      "\n",
      "----------------------------------------------------------\n",
      "Classifier with the best ROC-AUC: Gradient Boosting Classifier\n",
      "\n"
     ]
    }
   ],
   "source": [
    "best_roc_auc = 0.0\n",
    "best_classifier = 0\n",
    "best_pipeline = ''\n",
    "prediction_dict={}\n",
    "\n",
    "for i, model in enumerate (pipelines) : \n",
    "    y_pred = model.predict(X_val)\n",
    "    y_proba = model.predict_proba(X_val)[:,1]\n",
    "    \n",
    "    fpr, tpr, threshold = roc_curve(y_val, y_proba)\n",
    "    roc_auc = auc(fpr, tpr)\n",
    "    precision, recall, thresholds = precision_recall_curve(y_val, y_proba)\n",
    "\n",
    "    print(pipe_dict[i])\n",
    "    print(\"ROC_AUC:\\t\", roc_auc)\n",
    "    prediction_dict[pipe_dict[i]]=[y_proba, roc_auc]\n",
    "\n",
    "    if roc_auc > best_roc_auc:\n",
    "        best_roc_auc = roc_auc\n",
    "        best_pipeline = model\n",
    "        best_classifier = i   \n",
    "    \n",
    "    min_index = [i for i, prec in enumerate(precision) if prec >= 0.25][0]\n",
    "    print(\"Threshold:\\t\" , thresholds[min_index])\n",
    "    print(\"Precision:\\t\" ,precision[min_index])\n",
    "    print(\"Recall:\\t\\t\", recall[min_index])\n",
    "\n",
    "    y_model_val = pd.DataFrame(y_val)\n",
    "    y_model_val.to_csv('data/y_model_val.csv')\n",
    "    y_model_proba = pd.DataFrame(y_proba)\n",
    "    y_model_proba.to_csv('data/y_model_proba.csv')\n",
    "    \n",
    "    #create Plot\n",
    "    fig = plt.figure(figsize=(9,4))    \n",
    " \n",
    "    axes = fig.add_subplot(1,2,1)\n",
    "    axes = plt.plot(fpr, tpr, color='#F8C471', lw=2, label='ROC curve ')\n",
    "    axes = plt.plot([0, 1], [0, 1], color = '#F1948A', lw=2, linestyle='--', label='random')\n",
    "    axes = plt.xlim([-0.05, 1.0])\n",
    "    axes = plt.ylim([0.0, 1.05])\n",
    "    axes = plt.grid()\n",
    "    axes = plt.xlabel('False Positive Rate')\n",
    "    axes = plt.ylabel('True Positive Rate')\n",
    "    axes = plt.title(\"{} - ROC\".format(pipe_dict[i]))\n",
    "    axes = plt.legend(loc=\"lower right\")\n",
    "    \n",
    "    axes = fig.add_subplot(1,2,2)\n",
    "    axes = plt.plot(recall, precision, color='#F8C471')\n",
    "    axes = plt.hlines(y=0.1, xmin=0, xmax=1, linewidth=1, color = '#F1948A', linestyle=\"--\")\n",
    "    axes = plt.title('Precision-Recall Curve')\n",
    "    axes = plt.ylabel('Precision')\n",
    "    axes = plt.xlabel('Recall')\n",
    "\n",
    "    plt.show()    \n",
    "    \n",
    "print('\\n----------------------------------------------------------')\n",
    "print('Classifier with the best ROC-AUC: {} Classifier\\n'.format(pipe_dict[best_classifier]))"
   ]
  },
  {
   "cell_type": "code",
   "execution_count": 77,
   "metadata": {},
   "outputs": [],
   "source": [
    "#pipeline = pipeline_lr\n",
    "#pipeline = pipeline_rf\n",
    "#pipeline = pipeline_gb\n",
    "pipeline = pipeline_xgb"
   ]
  },
  {
   "cell_type": "code",
   "execution_count": 78,
   "metadata": {},
   "outputs": [],
   "source": [
    "threshold = thresholds[min_index]\n",
    "#threshold = 0.22359079294352646\n",
    "y_threshold = pd.Series([True if p >= threshold else False for p in y_proba]).to_numpy()"
   ]
  },
  {
   "cell_type": "code",
   "execution_count": 79,
   "metadata": {},
   "outputs": [
    {
     "data": {
      "text/plain": [
       "0.13194668"
      ]
     },
     "execution_count": 79,
     "metadata": {},
     "output_type": "execute_result"
    }
   ],
   "source": [
    "threshold"
   ]
  },
  {
   "cell_type": "markdown",
   "metadata": {},
   "source": [
    "### Business Requirements Validation"
   ]
  },
  {
   "cell_type": "markdown",
   "metadata": {},
   "source": [
    "####  Precision higher or equal to 10% per police station and search objective"
   ]
  },
  {
   "cell_type": "code",
   "execution_count": 80,
   "metadata": {},
   "outputs": [],
   "source": [
    "def CalculatePrecision(y_true, y_pred, threshold = 0.1):\n",
    "    \n",
    "    precision = precision_score(y_true, y_pred, pos_label=1)\n",
    "    recall = recall_score(y_true, y_pred, pos_label=1)\n",
    "    threshold_fulfilled = (precision >= threshold)\n",
    "    \n",
    "    return precision, recall, threshold_fulfilled"
   ]
  },
  {
   "cell_type": "code",
   "execution_count": 81,
   "metadata": {},
   "outputs": [
    {
     "name": "stdout",
     "output_type": "stream",
     "text": [
      "Global Precision: (True, 0.25)\n",
      "Global Recall: 0.8695652173913043\n"
     ]
    }
   ],
   "source": [
    "precision, recall, threshold_fulfilled = CalculatePrecision(y_val, y_threshold)\n",
    "\n",
    "print(\"Global Precision: {}\".format((threshold_fulfilled, precision)))\n",
    "print(\"Global Recall: {}\".format(recall))"
   ]
  },
  {
   "cell_type": "code",
   "execution_count": 82,
   "metadata": {},
   "outputs": [],
   "source": [
    "def verify_precision_per_station_object(X_test, y_true, y_pred, sensitive_column='Object of search', min_precision=0.1, min_samples=50):\n",
    "    \n",
    "    departments = X_test['station'].unique()\n",
    "    sensitive_classes = X_test[sensitive_column].unique()\n",
    "    \n",
    "    is_satisfied = True\n",
    "    problematic_departments = []\n",
    "    good_deparments = []\n",
    "    ignored_departments = []\n",
    "    \n",
    "    for department in departments:\n",
    "        precisions = {}\n",
    "        for sensitive_class in sensitive_classes:\n",
    "            mask = (X_test[sensitive_column] == sensitive_class) & (X_test['station'] == department)\n",
    "            if np.sum(mask) > min_samples:\n",
    "                precisions[sensitive_class] = precision_score(y_true[mask], y_pred[mask], pos_label=1)\n",
    "\n",
    "        if len(precisions) > 1:    \n",
    "            diff = np.max(list(precisions.values())) - np.min(list(precisions.values()))\n",
    "\n",
    "            if diff < min_precision:\n",
    "                is_satisfied = False\n",
    "                problematic_departments.append((department, diff, precisions))\n",
    "            else:\n",
    "                good_deparments.append((department, diff, precisions))\n",
    "        else:\n",
    "            ignored_departments.append((department, None, []))\n",
    "    \n",
    "    global_precisions = {}\n",
    "    for sensitive_class in sensitive_classes:\n",
    "        mask = (X_test[sensitive_column] == sensitive_class)\n",
    "        if np.sum(mask) > min_samples:\n",
    "            global_precisions[sensitive_class] = precision_score(y_true[mask], y_pred[mask], pos_label=1)\n",
    "            \n",
    "    station_precisions = {}\n",
    "    for department in departments:\n",
    "        mask = (X_test['station'] == department)\n",
    "        if np.sum(mask) > min_samples:\n",
    "            station_precisions[department] = precision_score(y_true[mask], y_pred[mask])\n",
    "    \n",
    "    if len(precisions) > 1:    \n",
    "        diff = np.max(list(precisions.values())) - np.min(list(precisions.values()))\n",
    "        if diff < min_precision:\n",
    "            is_satisfied = False\n",
    "        \n",
    "    return is_satisfied, problematic_departments, good_deparments, global_precisions, station_precisions"
   ]
  },
  {
   "cell_type": "code",
   "execution_count": 96,
   "metadata": {},
   "outputs": [
    {
     "name": "stdout",
     "output_type": "stream",
     "text": [
      "Object of search\n",
      "Requirement failed 😢\n",
      "Global rates: {'offensive weapons': 0.18045112781954886, 'controlled drugs': 0.25611681136543013, 'article for use in theft': 0.26627218934911245, 'stolen goods': 0.21693121693121692}\n",
      "Num problematic departments: 2\n",
      "Num good departments: 4\n",
      "avg diff: 0.05248698939840497\n",
      "\n",
      "Station rates: {'nottinghamshire': 0.2652027027027027, 'cambridgeshire': 0.3102310231023102, 'city-of-london': 0.24401913875598086, 'devon-and-cornwall': 0.20808383233532934, 'durham': 0.26715686274509803, 'bedfordshire': 0.24423963133640553}\n",
      "Maximum diference: 0.10214719076698087\n",
      "Stations that fulfill: 6\n"
     ]
    }
   ],
   "source": [
    "warnings.filterwarnings('ignore')\n",
    "\n",
    "is_satisfied, problematic_departments, good_deparments, global_precisions, station_precisions = verify_precision_per_station_object(\n",
    "    X_val, y_val, y_threshold)\n",
    "\n",
    "\n",
    "print(\"Object of search\")\n",
    "\n",
    "#if not is_satisfied:\n",
    "print(\"Requirement failed 😢\")\n",
    "print(\"Global rates: {}\".format(global_precisions))\n",
    "print(\"Num problematic departments: {}\".format(len(problematic_departments)))\n",
    "print(\"Num good departments: {}\".format(len(good_deparments)))\n",
    "print(\"avg diff:\", np.mean([p[1] for p in problematic_departments]))\n",
    "print(\"\\nStation rates: {}\".format(station_precisions))\n",
    "print('Maximum diference: {}'.format(max(station_precisions.values()) - min(station_precisions.values())))\n",
    "print('Stations that fulfill: {}'.format(np.sum([1 for sp in station_precisions.values() if sp >= 0.1 ])))"
   ]
  },
  {
   "cell_type": "code",
   "execution_count": 84,
   "metadata": {},
   "outputs": [
    {
     "data": {
      "text/plain": [
       "station             station           \n",
       "bedfordshire        bedfordshire           827\n",
       "cambridgeshire      cambridgeshire         430\n",
       "city-of-london      city-of-london         473\n",
       "devon-and-cornwall  devon-and-cornwall    1091\n",
       "durham              durham                 421\n",
       "nottinghamshire     nottinghamshire        758\n",
       "Name: station, dtype: int64"
      ]
     },
     "execution_count": 84,
     "metadata": {},
     "output_type": "execute_result"
    }
   ],
   "source": [
    "X_val.groupby(['station'])['station'].value_counts()"
   ]
  },
  {
   "cell_type": "code",
   "execution_count": 85,
   "metadata": {},
   "outputs": [
    {
     "data": {
      "text/plain": [
       "[('devon-and-cornwall',\n",
       "  0.07800897592819259,\n",
       "  {'offensive weapons': 0.13953488372093023,\n",
       "   'controlled drugs': 0.21754385964912282,\n",
       "   'stolen goods': 0.14}),\n",
       " ('durham',\n",
       "  0.02696500286861736,\n",
       "  {'offensive weapons': 0.23809523809523808,\n",
       "   'controlled drugs': 0.25980392156862747,\n",
       "   'article for use in theft': 0.26506024096385544})]"
      ]
     },
     "execution_count": 85,
     "metadata": {},
     "output_type": "execute_result"
    }
   ],
   "source": [
    "problematic_departments"
   ]
  },
  {
   "cell_type": "code",
   "execution_count": 86,
   "metadata": {},
   "outputs": [
    {
     "data": {
      "text/plain": [
       "[('nottinghamshire',\n",
       "  0.1586730615507594,\n",
       "  {'offensive weapons': 0.1111111111111111,\n",
       "   'controlled drugs': 0.2697841726618705}),\n",
       " ('cambridgeshire',\n",
       "  0.3184931506849315,\n",
       "  {'offensive weapons': 0.0,\n",
       "   'controlled drugs': 0.3184931506849315,\n",
       "   'article for use in theft': 0.0}),\n",
       " ('city-of-london',\n",
       "  0.13206477222607269,\n",
       "  {'controlled drugs': 0.26765799256505574,\n",
       "   'article for use in theft': 0.26582278481012656,\n",
       "   'stolen goods': 0.13559322033898305}),\n",
       " ('bedfordshire',\n",
       "  0.24416796267496113,\n",
       "  {'offensive weapons': 0.0,\n",
       "   'controlled drugs': 0.24416796267496113,\n",
       "   'article for use in theft': 0.0})]"
      ]
     },
     "execution_count": 86,
     "metadata": {},
     "output_type": "execute_result"
    }
   ],
   "source": [
    "good_deparments"
   ]
  },
  {
   "cell_type": "markdown",
   "metadata": {},
   "source": [
    "#### Discrepancy lower than 5% per police station between the success rate of protected classes (ethnicity, gender)"
   ]
  },
  {
   "cell_type": "code",
   "execution_count": 97,
   "metadata": {},
   "outputs": [],
   "source": [
    "def verify_no_discrimination(X_test, y_true, y_pred, sensitive_column='Officer-defined ethnicity', max_diff=0.05, min_samples=50):\n",
    "    \"\"\"\n",
    "    Verifies that no department has discrimination in between protected races\n",
    "    \"\"\"\n",
    "    \n",
    "    departments = X_test['station'].unique()\n",
    "    sensitive_classes = X_test[sensitive_column].unique()\n",
    "    \n",
    "    is_satisfied = True\n",
    "    \n",
    "    problematic_departments = []\n",
    "    good_deparments = []\n",
    "    ignored_departments = []\n",
    "    for department in departments:\n",
    "        precisions = {}\n",
    "        for sensitive_class in sensitive_classes:\n",
    "            mask = (X_test[sensitive_column] == sensitive_class) & (X_test['station'] == department)\n",
    "            if np.sum(mask) > min_samples:\n",
    "                precisions[sensitive_class] = precision_score(y_true[mask], y_pred[mask], pos_label=1)\n",
    "                \n",
    "        if len(precisions) > 1:    \n",
    "            diff = np.max(list(precisions.values())) - np.min(list(precisions.values()))\n",
    "\n",
    "            if diff > max_diff:\n",
    "                is_satisfied = False\n",
    "                problematic_departments.append((department, diff, precisions))\n",
    "            else:\n",
    "                good_deparments.append((department, diff, precisions))\n",
    "        else:\n",
    "            ignored_departments.append((department, None, []))\n",
    "    \n",
    "    global_precisions = {}\n",
    "    for sensitive_class in sensitive_classes:\n",
    "        mask = (X_test[sensitive_column] == sensitive_class)\n",
    "        if np.sum(mask) > min_samples:\n",
    "            global_precisions[sensitive_class] = precision_score(y_true[mask], y_pred[mask], pos_label=1)\n",
    "    \n",
    "    if len(precisions) > 1:    \n",
    "        diff = np.max(list(precisions.values())) - np.min(list(precisions.values()))\n",
    "        if diff > max_diff:\n",
    "            is_satisfied = False\n",
    "        \n",
    "    return is_satisfied, problematic_departments, good_deparments, global_precisions\n",
    "\n"
   ]
  },
  {
   "cell_type": "code",
   "execution_count": 98,
   "metadata": {},
   "outputs": [
    {
     "name": "stdout",
     "output_type": "stream",
     "text": [
      "Officer-defined Ethnicity\n",
      "Requirement failed 😢\n",
      "Global rates: {'black': 0.2222222222222222, 'asian': 0.27002967359050445, 'white': 0.25101397025687244, 'other': 0.26865671641791045, 'mixed': 0.2564102564102564}\n",
      "Num problematic departments: 3\n",
      "Num good departments: 0\n",
      "avg diff: 0.07986045027243531\n"
     ]
    }
   ],
   "source": [
    "warnings.filterwarnings('ignore')\n",
    "\n",
    "is_satisfied, problematic_departments, good_deparments, global_precisions = verify_no_discrimination(\n",
    "    X_val, y_val, y_threshold)\n",
    "\n",
    "\n",
    "print(\"Officer-defined Ethnicity\")\n",
    "\n",
    "if not is_satisfied:\n",
    "    print(\"Requirement failed 😢\")\n",
    "    print(\"Global rates: {}\".format(global_precisions))\n",
    "    print(\"Num problematic departments: {}\".format(len(problematic_departments)))\n",
    "    print(\"Num good departments: {}\".format(len(good_deparments)))\n",
    "\n",
    "    print(\"avg diff:\", np.mean([p[1] for p in problematic_departments]))    "
   ]
  },
  {
   "cell_type": "code",
   "execution_count": 99,
   "metadata": {},
   "outputs": [
    {
     "data": {
      "text/plain": [
       "[('nottinghamshire',\n",
       "  0.05840455840455844,\n",
       "  {'black': 0.2777777777777778,\n",
       "   'asian': 0.3148148148148148,\n",
       "   'white': 0.25692695214105793,\n",
       "   'mixed': 0.2564102564102564}),\n",
       " ('city-of-london',\n",
       "  0.06441947565543071,\n",
       "  {'black': 0.20224719101123595,\n",
       "   'asian': 0.25,\n",
       "   'white': 0.2549019607843137,\n",
       "   'other': 0.26666666666666666}),\n",
       " ('bedfordshire',\n",
       "  0.11675731675731676,\n",
       "  {'black': 0.16296296296296298,\n",
       "   'asian': 0.27972027972027974,\n",
       "   'white': 0.2587601078167116})]"
      ]
     },
     "execution_count": 99,
     "metadata": {},
     "output_type": "execute_result"
    }
   ],
   "source": [
    "problematic_departments"
   ]
  },
  {
   "cell_type": "code",
   "execution_count": 100,
   "metadata": {},
   "outputs": [
    {
     "data": {
      "text/plain": [
       "[]"
      ]
     },
     "execution_count": 100,
     "metadata": {},
     "output_type": "execute_result"
    }
   ],
   "source": [
    "good_deparments"
   ]
  },
  {
   "cell_type": "code",
   "execution_count": 104,
   "metadata": {},
   "outputs": [
    {
     "name": "stdout",
     "output_type": "stream",
     "text": [
      "\n",
      "Gender\n",
      "Requirement failed 😢\n",
      "Global rates: {'male': 0.2574331953330824, 'female': 0.19553072625698323}\n",
      "Num problematic departments: 2\n",
      "Num good departments: 2\n",
      "avg diff: 0.09436229639017979\n"
     ]
    }
   ],
   "source": [
    "print(\"\\nGender\")\n",
    "\n",
    "is_satisfied, problematic_departments, good_deparments, global_precisions = verify_no_discrimination(\n",
    "    X_val, y_val, y_threshold, sensitive_column='Gender')\n",
    "\n",
    "if not is_satisfied:\n",
    "    print(\"Requirement failed 😢\")\n",
    "    print(\"Global rates: {}\".format(global_precisions))\n",
    "    print(\"Num problematic departments: {}\".format(len(problematic_departments)))\n",
    "    print(\"Num good departments: {}\".format(len(good_deparments)))\n",
    "\n",
    "    print(\"avg diff:\", np.mean([p[1] for p in problematic_departments]))"
   ]
  },
  {
   "cell_type": "code",
   "execution_count": 102,
   "metadata": {},
   "outputs": [
    {
     "data": {
      "text/plain": [
       "[('cambridgeshire',\n",
       "  0.1269961977186312,\n",
       "  {'male': 0.3269961977186312, 'female': 0.2}),\n",
       " ('bedfordshire',\n",
       "  0.06172839506172839,\n",
       "  {'male': 0.25220458553791886, 'female': 0.19047619047619047})]"
      ]
     },
     "execution_count": 102,
     "metadata": {},
     "output_type": "execute_result"
    }
   ],
   "source": [
    "problematic_departments"
   ]
  },
  {
   "cell_type": "code",
   "execution_count": 103,
   "metadata": {},
   "outputs": [
    {
     "data": {
      "text/plain": [
       "[('nottinghamshire',\n",
       "  0.03421451190967917,\n",
       "  {'male': 0.2620817843866171, 'female': 0.2962962962962963}),\n",
       " ('devon-and-cornwall',\n",
       "  0.044788732394366176,\n",
       "  {'male': 0.2147887323943662, 'female': 0.17})]"
      ]
     },
     "execution_count": 103,
     "metadata": {},
     "output_type": "execute_result"
    }
   ],
   "source": [
    "good_deparments"
   ]
  },
  {
   "cell_type": "code",
   "execution_count": 94,
   "metadata": {},
   "outputs": [
    {
     "name": "stdout",
     "output_type": "stream",
     "text": [
      "\n",
      "\n",
      "Age Range\n",
      "Requirement failed 😢\n",
      "Global rates: {'18-24': 0.2678762006403415, 'under 18': 0.2033898305084746, 'over 34': 0.22544642857142858, '25-34': 0.28085642317380355}\n",
      "Num problematic departments: 6\n",
      "Num good departments: 0\n",
      "avg diff: 0.1336358851669735\n",
      "Departments analysed: 6\n"
     ]
    }
   ],
   "source": [
    "print(\"\\n\\nAge Range\")\n",
    "\n",
    "is_satisfied, problematic_departments, good_deparments, global_precisions = verify_no_discrimination(\n",
    "    X_val, y_val, y_threshold, sensitive_column='Age range')\n",
    "\n",
    "if not is_satisfied:\n",
    "    print(\"Requirement failed 😢\")\n",
    "    print(\"Global rates: {}\".format(global_precisions))\n",
    "    print(\"Num problematic departments: {}\".format(len(problematic_departments)))\n",
    "    print(\"Num good departments: {}\".format(len(good_deparments)))\n",
    "\n",
    "    print(\"avg diff:\", np.mean([p[1] for p in problematic_departments]))\n",
    "else:\n",
    "    print(\"Requirement satisfied! 🚀\")\n",
    "\n",
    "print(\"Departments analysed: {}\".format(len(problematic_departments) + len(good_deparments)))    "
   ]
  },
  {
   "cell_type": "markdown",
   "metadata": {},
   "source": [
    "#### Re-Deployment Analysis"
   ]
  },
  {
   "cell_type": "code",
   "execution_count": 106,
   "metadata": {},
   "outputs": [
    {
     "data": {
      "text/plain": [
       "0    0.7815\n",
       "1    0.2185\n",
       "Name: target, dtype: float64"
      ]
     },
     "execution_count": 106,
     "metadata": {},
     "output_type": "execute_result"
    }
   ],
   "source": [
    "df_test['target'].value_counts(normalize = True)"
   ]
  },
  {
   "cell_type": "code",
   "execution_count": 109,
   "metadata": {},
   "outputs": [
    {
     "data": {
      "text/plain": [
       "False    0.817557\n",
       "True     0.182443\n",
       "Name: target, dtype: float64"
      ]
     },
     "execution_count": 109,
     "metadata": {},
     "output_type": "execute_result"
    }
   ],
   "source": [
    "df['target'].value_counts(normalize = True)"
   ]
  },
  {
   "cell_type": "code",
   "execution_count": 116,
   "metadata": {},
   "outputs": [],
   "source": [
    "common_departments = df_test['station'].value_counts().head(20).index\n",
    "departments_new = df_test[df_test['station'].isin(common_departments)]\n",
    "departments_old = df[df['station'].isin(common_departments)]"
   ]
  },
  {
   "cell_type": "code",
   "execution_count": 117,
   "metadata": {},
   "outputs": [
    {
     "data": {
      "text/html": [
       "<div>\n",
       "<style scoped>\n",
       "    .dataframe tbody tr th:only-of-type {\n",
       "        vertical-align: middle;\n",
       "    }\n",
       "\n",
       "    .dataframe tbody tr th {\n",
       "        vertical-align: top;\n",
       "    }\n",
       "\n",
       "    .dataframe thead th {\n",
       "        text-align: right;\n",
       "    }\n",
       "</style>\n",
       "<table border=\"1\" class=\"dataframe\">\n",
       "  <thead>\n",
       "    <tr style=\"text-align: right;\">\n",
       "      <th>station</th>\n",
       "      <th>bedfordshire</th>\n",
       "      <th>cambridgeshire</th>\n",
       "      <th>city-of-london</th>\n",
       "      <th>devon-and-cornwall</th>\n",
       "      <th>durham</th>\n",
       "      <th>nottinghamshire</th>\n",
       "    </tr>\n",
       "    <tr>\n",
       "      <th>target</th>\n",
       "      <th></th>\n",
       "      <th></th>\n",
       "      <th></th>\n",
       "      <th></th>\n",
       "      <th></th>\n",
       "      <th></th>\n",
       "    </tr>\n",
       "  </thead>\n",
       "  <tbody>\n",
       "    <tr>\n",
       "      <th>0</th>\n",
       "      <td>0.789601</td>\n",
       "      <td>0.730233</td>\n",
       "      <td>0.775899</td>\n",
       "      <td>0.822181</td>\n",
       "      <td>0.736342</td>\n",
       "      <td>0.771768</td>\n",
       "    </tr>\n",
       "    <tr>\n",
       "      <th>1</th>\n",
       "      <td>0.210399</td>\n",
       "      <td>0.269767</td>\n",
       "      <td>0.224101</td>\n",
       "      <td>0.177819</td>\n",
       "      <td>0.263658</td>\n",
       "      <td>0.228232</td>\n",
       "    </tr>\n",
       "  </tbody>\n",
       "</table>\n",
       "</div>"
      ],
      "text/plain": [
       "station  bedfordshire  cambridgeshire  city-of-london  devon-and-cornwall  \\\n",
       "target                                                                      \n",
       "0            0.789601        0.730233        0.775899            0.822181   \n",
       "1            0.210399        0.269767        0.224101            0.177819   \n",
       "\n",
       "station    durham  nottinghamshire  \n",
       "target                              \n",
       "0        0.736342         0.771768  \n",
       "1        0.263658         0.228232  "
      ]
     },
     "execution_count": 117,
     "metadata": {},
     "output_type": "execute_result"
    }
   ],
   "source": [
    "pd.crosstab(departments_new['target'], departments_new['station'], normalize=\"columns\")"
   ]
  },
  {
   "cell_type": "code",
   "execution_count": 118,
   "metadata": {},
   "outputs": [
    {
     "data": {
      "text/html": [
       "<div>\n",
       "<style scoped>\n",
       "    .dataframe tbody tr th:only-of-type {\n",
       "        vertical-align: middle;\n",
       "    }\n",
       "\n",
       "    .dataframe tbody tr th {\n",
       "        vertical-align: top;\n",
       "    }\n",
       "\n",
       "    .dataframe thead th {\n",
       "        text-align: right;\n",
       "    }\n",
       "</style>\n",
       "<table border=\"1\" class=\"dataframe\">\n",
       "  <thead>\n",
       "    <tr style=\"text-align: right;\">\n",
       "      <th>station</th>\n",
       "      <th>bedfordshire</th>\n",
       "      <th>cambridgeshire</th>\n",
       "      <th>city-of-london</th>\n",
       "      <th>devon-and-cornwall</th>\n",
       "      <th>durham</th>\n",
       "      <th>nottinghamshire</th>\n",
       "    </tr>\n",
       "    <tr>\n",
       "      <th>target</th>\n",
       "      <th></th>\n",
       "      <th></th>\n",
       "      <th></th>\n",
       "      <th></th>\n",
       "      <th></th>\n",
       "      <th></th>\n",
       "    </tr>\n",
       "  </thead>\n",
       "  <tbody>\n",
       "    <tr>\n",
       "      <th>False</th>\n",
       "      <td>0.786924</td>\n",
       "      <td>0.762103</td>\n",
       "      <td>0.747962</td>\n",
       "      <td>0.817348</td>\n",
       "      <td>0.724686</td>\n",
       "      <td>0.76645</td>\n",
       "    </tr>\n",
       "    <tr>\n",
       "      <th>True</th>\n",
       "      <td>0.213076</td>\n",
       "      <td>0.237897</td>\n",
       "      <td>0.252038</td>\n",
       "      <td>0.182652</td>\n",
       "      <td>0.275314</td>\n",
       "      <td>0.23355</td>\n",
       "    </tr>\n",
       "  </tbody>\n",
       "</table>\n",
       "</div>"
      ],
      "text/plain": [
       "station  bedfordshire  cambridgeshire  city-of-london  devon-and-cornwall  \\\n",
       "target                                                                      \n",
       "False        0.786924        0.762103        0.747962            0.817348   \n",
       "True         0.213076        0.237897        0.252038            0.182652   \n",
       "\n",
       "station    durham  nottinghamshire  \n",
       "target                              \n",
       "False    0.724686          0.76645  \n",
       "True     0.275314          0.23355  "
      ]
     },
     "execution_count": 118,
     "metadata": {},
     "output_type": "execute_result"
    }
   ],
   "source": [
    "pd.crosstab(departments_old['target'], departments_old['station'], normalize=\"columns\")"
   ]
  },
  {
   "cell_type": "code",
   "execution_count": 119,
   "metadata": {},
   "outputs": [
    {
     "data": {
      "text/html": [
       "<div>\n",
       "<style scoped>\n",
       "    .dataframe tbody tr th:only-of-type {\n",
       "        vertical-align: middle;\n",
       "    }\n",
       "\n",
       "    .dataframe tbody tr th {\n",
       "        vertical-align: top;\n",
       "    }\n",
       "\n",
       "    .dataframe thead th {\n",
       "        text-align: right;\n",
       "    }\n",
       "</style>\n",
       "<table border=\"1\" class=\"dataframe\">\n",
       "  <thead>\n",
       "    <tr style=\"text-align: right;\">\n",
       "      <th>station</th>\n",
       "      <th>bedfordshire</th>\n",
       "      <th>cambridgeshire</th>\n",
       "      <th>city-of-london</th>\n",
       "      <th>devon-and-cornwall</th>\n",
       "      <th>durham</th>\n",
       "      <th>nottinghamshire</th>\n",
       "    </tr>\n",
       "    <tr>\n",
       "      <th>Officer-defined ethnicity</th>\n",
       "      <th></th>\n",
       "      <th></th>\n",
       "      <th></th>\n",
       "      <th></th>\n",
       "      <th></th>\n",
       "      <th></th>\n",
       "    </tr>\n",
       "  </thead>\n",
       "  <tbody>\n",
       "    <tr>\n",
       "      <th>asian</th>\n",
       "      <td>0.205562</td>\n",
       "      <td>0.106977</td>\n",
       "      <td>0.192389</td>\n",
       "      <td>0.023831</td>\n",
       "      <td>0.011876</td>\n",
       "      <td>0.080475</td>\n",
       "    </tr>\n",
       "    <tr>\n",
       "      <th>black</th>\n",
       "      <td>0.193470</td>\n",
       "      <td>0.106977</td>\n",
       "      <td>0.228330</td>\n",
       "      <td>0.031164</td>\n",
       "      <td>0.011876</td>\n",
       "      <td>0.147757</td>\n",
       "    </tr>\n",
       "    <tr>\n",
       "      <th>mixed</th>\n",
       "      <td>0.000000</td>\n",
       "      <td>0.000000</td>\n",
       "      <td>0.000000</td>\n",
       "      <td>0.000000</td>\n",
       "      <td>0.000000</td>\n",
       "      <td>0.075198</td>\n",
       "    </tr>\n",
       "    <tr>\n",
       "      <th>other</th>\n",
       "      <td>0.003628</td>\n",
       "      <td>0.009302</td>\n",
       "      <td>0.114165</td>\n",
       "      <td>0.005500</td>\n",
       "      <td>0.007126</td>\n",
       "      <td>0.021108</td>\n",
       "    </tr>\n",
       "    <tr>\n",
       "      <th>white</th>\n",
       "      <td>0.597340</td>\n",
       "      <td>0.776744</td>\n",
       "      <td>0.465116</td>\n",
       "      <td>0.939505</td>\n",
       "      <td>0.969121</td>\n",
       "      <td>0.675462</td>\n",
       "    </tr>\n",
       "  </tbody>\n",
       "</table>\n",
       "</div>"
      ],
      "text/plain": [
       "station                    bedfordshire  cambridgeshire  city-of-london  \\\n",
       "Officer-defined ethnicity                                                 \n",
       "asian                          0.205562        0.106977        0.192389   \n",
       "black                          0.193470        0.106977        0.228330   \n",
       "mixed                          0.000000        0.000000        0.000000   \n",
       "other                          0.003628        0.009302        0.114165   \n",
       "white                          0.597340        0.776744        0.465116   \n",
       "\n",
       "station                    devon-and-cornwall    durham  nottinghamshire  \n",
       "Officer-defined ethnicity                                                 \n",
       "asian                                0.023831  0.011876         0.080475  \n",
       "black                                0.031164  0.011876         0.147757  \n",
       "mixed                                0.000000  0.000000         0.075198  \n",
       "other                                0.005500  0.007126         0.021108  \n",
       "white                                0.939505  0.969121         0.675462  "
      ]
     },
     "execution_count": 119,
     "metadata": {},
     "output_type": "execute_result"
    }
   ],
   "source": [
    "pd.crosstab(departments_new['Officer-defined ethnicity'], departments_new['station'], normalize=\"columns\")"
   ]
  },
  {
   "cell_type": "code",
   "execution_count": 120,
   "metadata": {},
   "outputs": [
    {
     "data": {
      "text/html": [
       "<div>\n",
       "<style scoped>\n",
       "    .dataframe tbody tr th:only-of-type {\n",
       "        vertical-align: middle;\n",
       "    }\n",
       "\n",
       "    .dataframe tbody tr th {\n",
       "        vertical-align: top;\n",
       "    }\n",
       "\n",
       "    .dataframe thead th {\n",
       "        text-align: right;\n",
       "    }\n",
       "</style>\n",
       "<table border=\"1\" class=\"dataframe\">\n",
       "  <thead>\n",
       "    <tr style=\"text-align: right;\">\n",
       "      <th>station</th>\n",
       "      <th>bedfordshire</th>\n",
       "      <th>cambridgeshire</th>\n",
       "      <th>city-of-london</th>\n",
       "      <th>devon-and-cornwall</th>\n",
       "      <th>durham</th>\n",
       "      <th>nottinghamshire</th>\n",
       "    </tr>\n",
       "    <tr>\n",
       "      <th>Officer-defined ethnicity</th>\n",
       "      <th></th>\n",
       "      <th></th>\n",
       "      <th></th>\n",
       "      <th></th>\n",
       "      <th></th>\n",
       "      <th></th>\n",
       "    </tr>\n",
       "  </thead>\n",
       "  <tbody>\n",
       "    <tr>\n",
       "      <th>asian</th>\n",
       "      <td>0.292683</td>\n",
       "      <td>0.127413</td>\n",
       "      <td>0.204450</td>\n",
       "      <td>0.012837</td>\n",
       "      <td>0.013947</td>\n",
       "      <td>0.104878</td>\n",
       "    </tr>\n",
       "    <tr>\n",
       "      <th>black</th>\n",
       "      <td>0.168022</td>\n",
       "      <td>0.097713</td>\n",
       "      <td>0.235735</td>\n",
       "      <td>0.040895</td>\n",
       "      <td>0.010042</td>\n",
       "      <td>0.124817</td>\n",
       "    </tr>\n",
       "    <tr>\n",
       "      <th>mixed</th>\n",
       "      <td>0.000000</td>\n",
       "      <td>0.000000</td>\n",
       "      <td>0.000000</td>\n",
       "      <td>0.000000</td>\n",
       "      <td>0.000000</td>\n",
       "      <td>0.059285</td>\n",
       "    </tr>\n",
       "    <tr>\n",
       "      <th>other</th>\n",
       "      <td>0.014228</td>\n",
       "      <td>0.025245</td>\n",
       "      <td>0.074245</td>\n",
       "      <td>0.007519</td>\n",
       "      <td>0.006416</td>\n",
       "      <td>0.013558</td>\n",
       "    </tr>\n",
       "    <tr>\n",
       "      <th>white</th>\n",
       "      <td>0.525068</td>\n",
       "      <td>0.749629</td>\n",
       "      <td>0.485570</td>\n",
       "      <td>0.938749</td>\n",
       "      <td>0.969596</td>\n",
       "      <td>0.697461</td>\n",
       "    </tr>\n",
       "  </tbody>\n",
       "</table>\n",
       "</div>"
      ],
      "text/plain": [
       "station                    bedfordshire  cambridgeshire  city-of-london  \\\n",
       "Officer-defined ethnicity                                                 \n",
       "asian                          0.292683        0.127413        0.204450   \n",
       "black                          0.168022        0.097713        0.235735   \n",
       "mixed                          0.000000        0.000000        0.000000   \n",
       "other                          0.014228        0.025245        0.074245   \n",
       "white                          0.525068        0.749629        0.485570   \n",
       "\n",
       "station                    devon-and-cornwall    durham  nottinghamshire  \n",
       "Officer-defined ethnicity                                                 \n",
       "asian                                0.012837  0.013947         0.104878  \n",
       "black                                0.040895  0.010042         0.124817  \n",
       "mixed                                0.000000  0.000000         0.059285  \n",
       "other                                0.007519  0.006416         0.013558  \n",
       "white                                0.938749  0.969596         0.697461  "
      ]
     },
     "execution_count": 120,
     "metadata": {},
     "output_type": "execute_result"
    }
   ],
   "source": [
    "pd.crosstab(departments_old['Officer-defined ethnicity'], departments_old['station'], normalize=\"columns\")"
   ]
  },
  {
   "cell_type": "code",
   "execution_count": 122,
   "metadata": {},
   "outputs": [
    {
     "data": {
      "text/html": [
       "<div>\n",
       "<style scoped>\n",
       "    .dataframe tbody tr th:only-of-type {\n",
       "        vertical-align: middle;\n",
       "    }\n",
       "\n",
       "    .dataframe tbody tr th {\n",
       "        vertical-align: top;\n",
       "    }\n",
       "\n",
       "    .dataframe thead th {\n",
       "        text-align: right;\n",
       "    }\n",
       "</style>\n",
       "<table border=\"1\" class=\"dataframe\">\n",
       "  <thead>\n",
       "    <tr style=\"text-align: right;\">\n",
       "      <th>station</th>\n",
       "      <th>bedfordshire</th>\n",
       "      <th>cambridgeshire</th>\n",
       "      <th>city-of-london</th>\n",
       "      <th>devon-and-cornwall</th>\n",
       "      <th>durham</th>\n",
       "      <th>nottinghamshire</th>\n",
       "    </tr>\n",
       "    <tr>\n",
       "      <th>Gender</th>\n",
       "      <th></th>\n",
       "      <th></th>\n",
       "      <th></th>\n",
       "      <th></th>\n",
       "      <th></th>\n",
       "      <th></th>\n",
       "    </tr>\n",
       "  </thead>\n",
       "  <tbody>\n",
       "    <tr>\n",
       "      <th>female</th>\n",
       "      <td>0.122128</td>\n",
       "      <td>0.123256</td>\n",
       "      <td>0.07611</td>\n",
       "      <td>0.145738</td>\n",
       "      <td>0.111639</td>\n",
       "      <td>0.094987</td>\n",
       "    </tr>\n",
       "    <tr>\n",
       "      <th>male</th>\n",
       "      <td>0.877872</td>\n",
       "      <td>0.876744</td>\n",
       "      <td>0.92389</td>\n",
       "      <td>0.854262</td>\n",
       "      <td>0.826603</td>\n",
       "      <td>0.905013</td>\n",
       "    </tr>\n",
       "    <tr>\n",
       "      <th>other</th>\n",
       "      <td>0.000000</td>\n",
       "      <td>0.000000</td>\n",
       "      <td>0.00000</td>\n",
       "      <td>0.000000</td>\n",
       "      <td>0.061758</td>\n",
       "      <td>0.000000</td>\n",
       "    </tr>\n",
       "  </tbody>\n",
       "</table>\n",
       "</div>"
      ],
      "text/plain": [
       "station  bedfordshire  cambridgeshire  city-of-london  devon-and-cornwall  \\\n",
       "Gender                                                                      \n",
       "female       0.122128        0.123256         0.07611            0.145738   \n",
       "male         0.877872        0.876744         0.92389            0.854262   \n",
       "other        0.000000        0.000000         0.00000            0.000000   \n",
       "\n",
       "station    durham  nottinghamshire  \n",
       "Gender                              \n",
       "female   0.111639         0.094987  \n",
       "male     0.826603         0.905013  \n",
       "other    0.061758         0.000000  "
      ]
     },
     "execution_count": 122,
     "metadata": {},
     "output_type": "execute_result"
    }
   ],
   "source": [
    "pd.crosstab(departments_new['Gender'], departments_new['station'], normalize=\"columns\")"
   ]
  },
  {
   "cell_type": "code",
   "execution_count": 121,
   "metadata": {},
   "outputs": [
    {
     "data": {
      "text/html": [
       "<div>\n",
       "<style scoped>\n",
       "    .dataframe tbody tr th:only-of-type {\n",
       "        vertical-align: middle;\n",
       "    }\n",
       "\n",
       "    .dataframe tbody tr th {\n",
       "        vertical-align: top;\n",
       "    }\n",
       "\n",
       "    .dataframe thead th {\n",
       "        text-align: right;\n",
       "    }\n",
       "</style>\n",
       "<table border=\"1\" class=\"dataframe\">\n",
       "  <thead>\n",
       "    <tr style=\"text-align: right;\">\n",
       "      <th>station</th>\n",
       "      <th>bedfordshire</th>\n",
       "      <th>cambridgeshire</th>\n",
       "      <th>city-of-london</th>\n",
       "      <th>devon-and-cornwall</th>\n",
       "      <th>durham</th>\n",
       "      <th>nottinghamshire</th>\n",
       "    </tr>\n",
       "    <tr>\n",
       "      <th>Gender</th>\n",
       "      <th></th>\n",
       "      <th></th>\n",
       "      <th></th>\n",
       "      <th></th>\n",
       "      <th></th>\n",
       "      <th></th>\n",
       "    </tr>\n",
       "  </thead>\n",
       "  <tbody>\n",
       "    <tr>\n",
       "      <th>female</th>\n",
       "      <td>0.099593</td>\n",
       "      <td>0.105138</td>\n",
       "      <td>0.09187</td>\n",
       "      <td>0.158812</td>\n",
       "      <td>0.121339</td>\n",
       "      <td>0.088130</td>\n",
       "    </tr>\n",
       "    <tr>\n",
       "      <th>male</th>\n",
       "      <td>0.900407</td>\n",
       "      <td>0.894862</td>\n",
       "      <td>0.90813</td>\n",
       "      <td>0.841188</td>\n",
       "      <td>0.821478</td>\n",
       "      <td>0.911073</td>\n",
       "    </tr>\n",
       "    <tr>\n",
       "      <th>other</th>\n",
       "      <td>0.000000</td>\n",
       "      <td>0.000000</td>\n",
       "      <td>0.00000</td>\n",
       "      <td>0.000000</td>\n",
       "      <td>0.057183</td>\n",
       "      <td>0.000798</td>\n",
       "    </tr>\n",
       "  </tbody>\n",
       "</table>\n",
       "</div>"
      ],
      "text/plain": [
       "station  bedfordshire  cambridgeshire  city-of-london  devon-and-cornwall  \\\n",
       "Gender                                                                      \n",
       "female       0.099593        0.105138         0.09187            0.158812   \n",
       "male         0.900407        0.894862         0.90813            0.841188   \n",
       "other        0.000000        0.000000         0.00000            0.000000   \n",
       "\n",
       "station    durham  nottinghamshire  \n",
       "Gender                              \n",
       "female   0.121339         0.088130  \n",
       "male     0.821478         0.911073  \n",
       "other    0.057183         0.000798  "
      ]
     },
     "execution_count": 121,
     "metadata": {},
     "output_type": "execute_result"
    }
   ],
   "source": [
    "pd.crosstab(departments_old['Gender'], departments_old['station'], normalize=\"columns\")"
   ]
  },
  {
   "cell_type": "code",
   "execution_count": 124,
   "metadata": {},
   "outputs": [
    {
     "data": {
      "text/html": [
       "<div>\n",
       "<style scoped>\n",
       "    .dataframe tbody tr th:only-of-type {\n",
       "        vertical-align: middle;\n",
       "    }\n",
       "\n",
       "    .dataframe tbody tr th {\n",
       "        vertical-align: top;\n",
       "    }\n",
       "\n",
       "    .dataframe thead th {\n",
       "        text-align: right;\n",
       "    }\n",
       "</style>\n",
       "<table border=\"1\" class=\"dataframe\">\n",
       "  <thead>\n",
       "    <tr style=\"text-align: right;\">\n",
       "      <th>station</th>\n",
       "      <th>bedfordshire</th>\n",
       "      <th>cambridgeshire</th>\n",
       "      <th>city-of-london</th>\n",
       "      <th>devon-and-cornwall</th>\n",
       "      <th>durham</th>\n",
       "      <th>nottinghamshire</th>\n",
       "    </tr>\n",
       "    <tr>\n",
       "      <th>Type</th>\n",
       "      <th></th>\n",
       "      <th></th>\n",
       "      <th></th>\n",
       "      <th></th>\n",
       "      <th></th>\n",
       "      <th></th>\n",
       "    </tr>\n",
       "  </thead>\n",
       "  <tbody>\n",
       "    <tr>\n",
       "      <th>person and vehicle search</th>\n",
       "      <td>0.230955</td>\n",
       "      <td>0.218605</td>\n",
       "      <td>0.217759</td>\n",
       "      <td>0.132906</td>\n",
       "      <td>0.266033</td>\n",
       "      <td>0.229551</td>\n",
       "    </tr>\n",
       "    <tr>\n",
       "      <th>person search</th>\n",
       "      <td>0.769045</td>\n",
       "      <td>0.781395</td>\n",
       "      <td>0.782241</td>\n",
       "      <td>0.867094</td>\n",
       "      <td>0.733967</td>\n",
       "      <td>0.770449</td>\n",
       "    </tr>\n",
       "  </tbody>\n",
       "</table>\n",
       "</div>"
      ],
      "text/plain": [
       "station                    bedfordshire  cambridgeshire  city-of-london  \\\n",
       "Type                                                                      \n",
       "person and vehicle search      0.230955        0.218605        0.217759   \n",
       "person search                  0.769045        0.781395        0.782241   \n",
       "\n",
       "station                    devon-and-cornwall    durham  nottinghamshire  \n",
       "Type                                                                      \n",
       "person and vehicle search            0.132906  0.266033         0.229551  \n",
       "person search                        0.867094  0.733967         0.770449  "
      ]
     },
     "execution_count": 124,
     "metadata": {},
     "output_type": "execute_result"
    }
   ],
   "source": [
    "pd.crosstab(departments_new['Type'], departments_new['station'], normalize=\"columns\")"
   ]
  },
  {
   "cell_type": "code",
   "execution_count": 123,
   "metadata": {},
   "outputs": [
    {
     "data": {
      "text/html": [
       "<div>\n",
       "<style scoped>\n",
       "    .dataframe tbody tr th:only-of-type {\n",
       "        vertical-align: middle;\n",
       "    }\n",
       "\n",
       "    .dataframe tbody tr th {\n",
       "        vertical-align: top;\n",
       "    }\n",
       "\n",
       "    .dataframe thead th {\n",
       "        text-align: right;\n",
       "    }\n",
       "</style>\n",
       "<table border=\"1\" class=\"dataframe\">\n",
       "  <thead>\n",
       "    <tr style=\"text-align: right;\">\n",
       "      <th>station</th>\n",
       "      <th>bedfordshire</th>\n",
       "      <th>cambridgeshire</th>\n",
       "      <th>city-of-london</th>\n",
       "      <th>devon-and-cornwall</th>\n",
       "      <th>durham</th>\n",
       "      <th>nottinghamshire</th>\n",
       "    </tr>\n",
       "    <tr>\n",
       "      <th>Type</th>\n",
       "      <th></th>\n",
       "      <th></th>\n",
       "      <th></th>\n",
       "      <th></th>\n",
       "      <th></th>\n",
       "      <th></th>\n",
       "    </tr>\n",
       "  </thead>\n",
       "  <tbody>\n",
       "    <tr>\n",
       "      <th>person and vehicle search</th>\n",
       "      <td>0.238144</td>\n",
       "      <td>0.16929</td>\n",
       "      <td>0.263274</td>\n",
       "      <td>0.167339</td>\n",
       "      <td>0.285356</td>\n",
       "      <td>0.203243</td>\n",
       "    </tr>\n",
       "    <tr>\n",
       "      <th>person search</th>\n",
       "      <td>0.761856</td>\n",
       "      <td>0.83071</td>\n",
       "      <td>0.736726</td>\n",
       "      <td>0.832661</td>\n",
       "      <td>0.714644</td>\n",
       "      <td>0.796757</td>\n",
       "    </tr>\n",
       "  </tbody>\n",
       "</table>\n",
       "</div>"
      ],
      "text/plain": [
       "station                    bedfordshire  cambridgeshire  city-of-london  \\\n",
       "Type                                                                      \n",
       "person and vehicle search      0.238144         0.16929        0.263274   \n",
       "person search                  0.761856         0.83071        0.736726   \n",
       "\n",
       "station                    devon-and-cornwall    durham  nottinghamshire  \n",
       "Type                                                                      \n",
       "person and vehicle search            0.167339  0.285356         0.203243  \n",
       "person search                        0.832661  0.714644         0.796757  "
      ]
     },
     "execution_count": 123,
     "metadata": {},
     "output_type": "execute_result"
    }
   ],
   "source": [
    "pd.crosstab(departments_old['Type'], departments_old['station'], normalize=\"columns\")"
   ]
  },
  {
   "cell_type": "code",
   "execution_count": 125,
   "metadata": {},
   "outputs": [
    {
     "data": {
      "text/html": [
       "<div>\n",
       "<style scoped>\n",
       "    .dataframe tbody tr th:only-of-type {\n",
       "        vertical-align: middle;\n",
       "    }\n",
       "\n",
       "    .dataframe tbody tr th {\n",
       "        vertical-align: top;\n",
       "    }\n",
       "\n",
       "    .dataframe thead th {\n",
       "        text-align: right;\n",
       "    }\n",
       "</style>\n",
       "<table border=\"1\" class=\"dataframe\">\n",
       "  <thead>\n",
       "    <tr style=\"text-align: right;\">\n",
       "      <th>station</th>\n",
       "      <th>bedfordshire</th>\n",
       "      <th>cambridgeshire</th>\n",
       "      <th>city-of-london</th>\n",
       "      <th>devon-and-cornwall</th>\n",
       "      <th>durham</th>\n",
       "      <th>nottinghamshire</th>\n",
       "    </tr>\n",
       "    <tr>\n",
       "      <th>Legislation</th>\n",
       "      <th></th>\n",
       "      <th></th>\n",
       "      <th></th>\n",
       "      <th></th>\n",
       "      <th></th>\n",
       "      <th></th>\n",
       "    </tr>\n",
       "  </thead>\n",
       "  <tbody>\n",
       "    <tr>\n",
       "      <th>criminal justice and public order act 1994 (section 60)</th>\n",
       "      <td>0.000000</td>\n",
       "      <td>0.00000</td>\n",
       "      <td>0.000000</td>\n",
       "      <td>0.000000</td>\n",
       "      <td>0.000000</td>\n",
       "      <td>0.010554</td>\n",
       "    </tr>\n",
       "    <tr>\n",
       "      <th>firearms act 1968 (section 47)</th>\n",
       "      <td>0.001209</td>\n",
       "      <td>0.00000</td>\n",
       "      <td>0.002114</td>\n",
       "      <td>0.000917</td>\n",
       "      <td>0.007126</td>\n",
       "      <td>0.001319</td>\n",
       "    </tr>\n",
       "    <tr>\n",
       "      <th>misuse of drugs act 1971 (section 23)</th>\n",
       "      <td>0.777509</td>\n",
       "      <td>0.67907</td>\n",
       "      <td>0.568710</td>\n",
       "      <td>0.746104</td>\n",
       "      <td>0.484561</td>\n",
       "      <td>0.733509</td>\n",
       "    </tr>\n",
       "    <tr>\n",
       "      <th>other</th>\n",
       "      <td>0.001209</td>\n",
       "      <td>0.00000</td>\n",
       "      <td>0.000000</td>\n",
       "      <td>0.000000</td>\n",
       "      <td>0.011876</td>\n",
       "      <td>0.034301</td>\n",
       "    </tr>\n",
       "    <tr>\n",
       "      <th>police and criminal evidence act 1984 (section 1)</th>\n",
       "      <td>0.220073</td>\n",
       "      <td>0.32093</td>\n",
       "      <td>0.429175</td>\n",
       "      <td>0.252979</td>\n",
       "      <td>0.496437</td>\n",
       "      <td>0.220317</td>\n",
       "    </tr>\n",
       "  </tbody>\n",
       "</table>\n",
       "</div>"
      ],
      "text/plain": [
       "station                                             bedfordshire  \\\n",
       "Legislation                                                        \n",
       "criminal justice and public order act 1994 (sec...      0.000000   \n",
       "firearms act 1968 (section 47)                          0.001209   \n",
       "misuse of drugs act 1971 (section 23)                   0.777509   \n",
       "other                                                   0.001209   \n",
       "police and criminal evidence act 1984 (section 1)       0.220073   \n",
       "\n",
       "station                                             cambridgeshire  \\\n",
       "Legislation                                                          \n",
       "criminal justice and public order act 1994 (sec...         0.00000   \n",
       "firearms act 1968 (section 47)                             0.00000   \n",
       "misuse of drugs act 1971 (section 23)                      0.67907   \n",
       "other                                                      0.00000   \n",
       "police and criminal evidence act 1984 (section 1)          0.32093   \n",
       "\n",
       "station                                             city-of-london  \\\n",
       "Legislation                                                          \n",
       "criminal justice and public order act 1994 (sec...        0.000000   \n",
       "firearms act 1968 (section 47)                            0.002114   \n",
       "misuse of drugs act 1971 (section 23)                     0.568710   \n",
       "other                                                     0.000000   \n",
       "police and criminal evidence act 1984 (section 1)         0.429175   \n",
       "\n",
       "station                                             devon-and-cornwall  \\\n",
       "Legislation                                                              \n",
       "criminal justice and public order act 1994 (sec...            0.000000   \n",
       "firearms act 1968 (section 47)                                0.000917   \n",
       "misuse of drugs act 1971 (section 23)                         0.746104   \n",
       "other                                                         0.000000   \n",
       "police and criminal evidence act 1984 (section 1)             0.252979   \n",
       "\n",
       "station                                               durham  nottinghamshire  \n",
       "Legislation                                                                    \n",
       "criminal justice and public order act 1994 (sec...  0.000000         0.010554  \n",
       "firearms act 1968 (section 47)                      0.007126         0.001319  \n",
       "misuse of drugs act 1971 (section 23)               0.484561         0.733509  \n",
       "other                                               0.011876         0.034301  \n",
       "police and criminal evidence act 1984 (section 1)   0.496437         0.220317  "
      ]
     },
     "execution_count": 125,
     "metadata": {},
     "output_type": "execute_result"
    }
   ],
   "source": [
    "pd.crosstab(departments_new['Legislation'], departments_new['station'], normalize=\"columns\")"
   ]
  },
  {
   "cell_type": "code",
   "execution_count": 126,
   "metadata": {},
   "outputs": [
    {
     "data": {
      "text/html": [
       "<div>\n",
       "<style scoped>\n",
       "    .dataframe tbody tr th:only-of-type {\n",
       "        vertical-align: middle;\n",
       "    }\n",
       "\n",
       "    .dataframe tbody tr th {\n",
       "        vertical-align: top;\n",
       "    }\n",
       "\n",
       "    .dataframe thead th {\n",
       "        text-align: right;\n",
       "    }\n",
       "</style>\n",
       "<table border=\"1\" class=\"dataframe\">\n",
       "  <thead>\n",
       "    <tr style=\"text-align: right;\">\n",
       "      <th>station</th>\n",
       "      <th>bedfordshire</th>\n",
       "      <th>cambridgeshire</th>\n",
       "      <th>city-of-london</th>\n",
       "      <th>devon-and-cornwall</th>\n",
       "      <th>durham</th>\n",
       "      <th>nottinghamshire</th>\n",
       "    </tr>\n",
       "    <tr>\n",
       "      <th>Legislation</th>\n",
       "      <th></th>\n",
       "      <th></th>\n",
       "      <th></th>\n",
       "      <th></th>\n",
       "      <th></th>\n",
       "      <th></th>\n",
       "    </tr>\n",
       "  </thead>\n",
       "  <tbody>\n",
       "    <tr>\n",
       "      <th>criminal justice and public order act 1994 (section 60)</th>\n",
       "      <td>0.000000</td>\n",
       "      <td>0.000594</td>\n",
       "      <td>0.000000</td>\n",
       "      <td>0.000092</td>\n",
       "      <td>0.000279</td>\n",
       "      <td>0.002260</td>\n",
       "    </tr>\n",
       "    <tr>\n",
       "      <th>firearms act 1968 (section 47)</th>\n",
       "      <td>0.003896</td>\n",
       "      <td>0.002376</td>\n",
       "      <td>0.007491</td>\n",
       "      <td>0.002109</td>\n",
       "      <td>0.002789</td>\n",
       "      <td>0.004254</td>\n",
       "    </tr>\n",
       "    <tr>\n",
       "      <th>misuse of drugs act 1971 (section 23)</th>\n",
       "      <td>0.743733</td>\n",
       "      <td>0.704188</td>\n",
       "      <td>0.615995</td>\n",
       "      <td>0.737301</td>\n",
       "      <td>0.546722</td>\n",
       "      <td>0.766715</td>\n",
       "    </tr>\n",
       "    <tr>\n",
       "      <th>other</th>\n",
       "      <td>0.003388</td>\n",
       "      <td>0.000297</td>\n",
       "      <td>0.000220</td>\n",
       "      <td>0.000000</td>\n",
       "      <td>0.013110</td>\n",
       "      <td>0.024857</td>\n",
       "    </tr>\n",
       "    <tr>\n",
       "      <th>police and criminal evidence act 1984 (section 1)</th>\n",
       "      <td>0.248984</td>\n",
       "      <td>0.290466</td>\n",
       "      <td>0.376294</td>\n",
       "      <td>0.260499</td>\n",
       "      <td>0.437099</td>\n",
       "      <td>0.201781</td>\n",
       "    </tr>\n",
       "    <tr>\n",
       "      <th>unknown</th>\n",
       "      <td>0.000000</td>\n",
       "      <td>0.002079</td>\n",
       "      <td>0.000000</td>\n",
       "      <td>0.000000</td>\n",
       "      <td>0.000000</td>\n",
       "      <td>0.000133</td>\n",
       "    </tr>\n",
       "  </tbody>\n",
       "</table>\n",
       "</div>"
      ],
      "text/plain": [
       "station                                             bedfordshire  \\\n",
       "Legislation                                                        \n",
       "criminal justice and public order act 1994 (sec...      0.000000   \n",
       "firearms act 1968 (section 47)                          0.003896   \n",
       "misuse of drugs act 1971 (section 23)                   0.743733   \n",
       "other                                                   0.003388   \n",
       "police and criminal evidence act 1984 (section 1)       0.248984   \n",
       "unknown                                                 0.000000   \n",
       "\n",
       "station                                             cambridgeshire  \\\n",
       "Legislation                                                          \n",
       "criminal justice and public order act 1994 (sec...        0.000594   \n",
       "firearms act 1968 (section 47)                            0.002376   \n",
       "misuse of drugs act 1971 (section 23)                     0.704188   \n",
       "other                                                     0.000297   \n",
       "police and criminal evidence act 1984 (section 1)         0.290466   \n",
       "unknown                                                   0.002079   \n",
       "\n",
       "station                                             city-of-london  \\\n",
       "Legislation                                                          \n",
       "criminal justice and public order act 1994 (sec...        0.000000   \n",
       "firearms act 1968 (section 47)                            0.007491   \n",
       "misuse of drugs act 1971 (section 23)                     0.615995   \n",
       "other                                                     0.000220   \n",
       "police and criminal evidence act 1984 (section 1)         0.376294   \n",
       "unknown                                                   0.000000   \n",
       "\n",
       "station                                             devon-and-cornwall  \\\n",
       "Legislation                                                              \n",
       "criminal justice and public order act 1994 (sec...            0.000092   \n",
       "firearms act 1968 (section 47)                                0.002109   \n",
       "misuse of drugs act 1971 (section 23)                         0.737301   \n",
       "other                                                         0.000000   \n",
       "police and criminal evidence act 1984 (section 1)             0.260499   \n",
       "unknown                                                       0.000000   \n",
       "\n",
       "station                                               durham  nottinghamshire  \n",
       "Legislation                                                                    \n",
       "criminal justice and public order act 1994 (sec...  0.000279         0.002260  \n",
       "firearms act 1968 (section 47)                      0.002789         0.004254  \n",
       "misuse of drugs act 1971 (section 23)               0.546722         0.766715  \n",
       "other                                               0.013110         0.024857  \n",
       "police and criminal evidence act 1984 (section 1)   0.437099         0.201781  \n",
       "unknown                                             0.000000         0.000133  "
      ]
     },
     "execution_count": 126,
     "metadata": {},
     "output_type": "execute_result"
    }
   ],
   "source": [
    "pd.crosstab(departments_old['Legislation'], departments_old['station'], normalize=\"columns\")"
   ]
  },
  {
   "cell_type": "code",
   "execution_count": null,
   "metadata": {},
   "outputs": [],
   "source": []
  }
 ],
 "metadata": {
  "kernelspec": {
   "display_name": "Python 3 (ipykernel)",
   "language": "python",
   "name": "python3"
  },
  "language_info": {
   "codemirror_mode": {
    "name": "ipython",
    "version": 3
   },
   "file_extension": ".py",
   "mimetype": "text/x-python",
   "name": "python",
   "nbconvert_exporter": "python",
   "pygments_lexer": "ipython3",
   "version": "3.8.14"
  }
 },
 "nbformat": 4,
 "nbformat_minor": 2
}
